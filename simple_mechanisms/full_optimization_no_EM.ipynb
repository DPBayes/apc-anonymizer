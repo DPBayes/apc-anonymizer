{
 "cells": [
  {
   "cell_type": "code",
   "execution_count": 1,
   "id": "3652acce-a577-4e6c-8a00-761968ac98c8",
   "metadata": {},
   "outputs": [
    {
     "name": "stderr",
     "output_type": "stream",
     "text": [
      "/home/jalko/.conda/envs/myenv/lib/python3.9/site-packages/tqdm/auto.py:22: TqdmWarning: IProgress not found. Please update jupyter and ipywidgets. See https://ipywidgets.readthedocs.io/en/stable/user_install.html\n",
      "  from .autonotebook import tqdm as notebook_tqdm\n"
     ]
    }
   ],
   "source": [
    "import jax, tqdm\n",
    "import jax.numpy as jnp\n",
    "import numpy as np\n",
    "\n",
    "from jax import grad, value_and_grad\n",
    "from jax.nn import softmax, log_softmax\n",
    "\n",
    "from numpyro.optim import Adam\n",
    "\n",
    "from functools import partial\n",
    "\n",
    "np.random.seed(123)\n",
    "np.set_printoptions(suppress=True)"
   ]
  },
  {
   "cell_type": "markdown",
   "id": "19ebbe58-ac5f-4202-a7cb-5cccaf5a846e",
   "metadata": {},
   "source": [
    "We want to minimize the probability of returning a wrong category under the DP guarantee. We do this by learning utility scores for the exponential mechanism."
   ]
  },
  {
   "cell_type": "code",
   "execution_count": 2,
   "id": "a4a9c89c-36e2-45cb-9bb4-2d4d8583c64c",
   "metadata": {},
   "outputs": [],
   "source": [
    "lamb = 0.001 # weight for l2 penalty\n",
    "bandwidth = 0.1 # kernel bandwidth\n",
    "nu = 100. # weight for DP penalty\n",
    "\n",
    "def get_logps(qs):\n",
    "    log_ps = log_softmax(qs, axis=1)\n",
    "    return log_ps\n",
    "\n",
    "#cat_edges = [5, 40, 50, 65, 72, 78] # NOTE\n",
    "def loss(qs, categories, eps):\n",
    "    n_cats = categories.shape[1]\n",
    "    distances = np.abs(np.arange(0,n_cats).reshape(-1, 1) - np.arange(0,n_cats).reshape(1, -1))\n",
    "    kernel = np.exp(-distances / bandwidth)\n",
    "    logps = get_logps(qs)\n",
    "    \n",
    "    bce = -1. * jnp.sum(logps * categories) # we want to maximize prob. of releasing the correct label\n",
    "    distance_penalty = 0.5 * jnp.sum(logps *  (categories @ kernel)) # we want to minimize prob. of releasing 'far away' categories\n",
    "    l2_penalty = lamb * jnp.linalg.norm(qs) # we want to keep the utility scores reasonable to avoid numerical issues\n",
    "    \n",
    "    # compute the log likelihood ratio\n",
    "    ll_ratio = jnp.abs(logps[:-1] - logps[1:])\n",
    "    #dp_penalty = jnp.exp(nu * jax.nn.relu(ll_ratio - eps)).sum()\n",
    "    # the dp penalty\n",
    "    dp_penalty = nu * jax.nn.relu(ll_ratio - (eps-1e-5)).sum()\n",
    "    return bce + distance_penalty + l2_penalty + dp_penalty"
   ]
  },
  {
   "cell_type": "markdown",
   "id": "14183b6b-f0f7-42a8-bf37-8e79c0f4dae3",
   "metadata": {},
   "source": [
    "## Setting the data"
   ]
  },
  {
   "cell_type": "markdown",
   "id": "cedac0b1-da07-4347-b7a9-2ba03be69f52",
   "metadata": {},
   "source": [
    "Now replicate the setting described in the [Problem statement](https://github.com/tvv-lippu-ja-maksujarjestelma-oy/waltti-apc-anonymization-plan/blob/main/README.md)"
   ]
  },
  {
   "cell_type": "code",
   "execution_count": 3,
   "id": "b7491854-d683-4b8d-8ff3-4dc135096c9c",
   "metadata": {},
   "outputs": [
    {
     "name": "stdout",
     "output_type": "stream",
     "text": [
      "[15, 30, 45, 60, 78]\n",
      "[16. 15. 15. 15. 18.]\n"
     ]
    }
   ],
   "source": [
    "n_seats = 78\n",
    "n_cats = 5\n",
    "#n_cats = 6\n",
    "#cat_edges = [5, 40, 50, 65, 72, 78]\n",
    "cat_edges = [(i+1) * int(n_seats // n_cats) for i in range(n_cats)]\n",
    "cat_edges[-1] = n_seats\n",
    "print(cat_edges)\n",
    "categories = np.empty((n_seats+1, n_cats))\n",
    "j = 0\n",
    "for i in range(n_seats+1):\n",
    "    if i > cat_edges[j]:\n",
    "        j += 1\n",
    "    categories[i] = np.eye(n_cats)[j]\n",
    "print(np.sum(categories, axis=0))"
   ]
  },
  {
   "cell_type": "markdown",
   "id": "54a72765-db7f-4554-bd67-20c4b99438b9",
   "metadata": {},
   "source": [
    "## Training"
   ]
  },
  {
   "cell_type": "markdown",
   "id": "f18e6c51-ab33-4082-a203-212e3f4829da",
   "metadata": {},
   "source": [
    "Now, lets train the model"
   ]
  },
  {
   "cell_type": "code",
   "execution_count": 4,
   "id": "89aa9f58-6590-4c86-be4e-8de2c21e0a64",
   "metadata": {},
   "outputs": [
    {
     "name": "stdout",
     "output_type": "stream",
     "text": [
      "Initial loss: 64.63317108154297\n"
     ]
    },
    {
     "name": "stderr",
     "output_type": "stream",
     "text": [
      "Loss 22.04: 100%|██████████| 100/100 [00:05<00:00, 17.32it/s]\n"
     ]
    }
   ],
   "source": [
    "eps = .1\n",
    "init_qs = jnp.array(np.random.randn(n_seats+1, n_cats) * 0.1)\n",
    "\n",
    "learning_rate = 1e-3\n",
    "optimizer = Adam(learning_rate)\n",
    "\n",
    "def update_epoch(i, params):\n",
    "    optim_state, last_chunk_loss = params\n",
    "    qs = optimizer.get_params(optim_state)\n",
    "    loss_at_iter, grads = value_and_grad(partial(loss, categories=categories, eps=eps))(qs) \n",
    "    optim_state = optimizer.update(grads, optim_state)\n",
    "    return optim_state, loss_at_iter\n",
    "\n",
    "from jax.lax import fori_loop\n",
    "\n",
    "T = 1000000\n",
    "epoch_len = 10000 # this is essentially a chunk size. We split the learning into chucks to get some progress prints\n",
    "optim_state = optimizer.init(init_qs)\n",
    "\n",
    "print(f\"Initial loss: {loss(optimizer.get_params(optim_state), categories, 1.0)}\")\n",
    "\n",
    "progresss_bar = tqdm.tqdm(range(T // epoch_len))\n",
    "\n",
    "for epoch_nr in progresss_bar:\n",
    "    optim_state_new, loss_at_iter = fori_loop(0, epoch_len, update_epoch, (optim_state, 0.0))\n",
    "    progresss_bar.set_description(f\"Loss {loss_at_iter.item():.2f}\")\n",
    "    if jnp.isnan(loss_at_iter):\n",
    "        print(\"Nans!!!!!\")\n",
    "        break\n",
    "    optim_state = optim_state_new\n",
    "    \n",
    "qs = optimizer.get_params(optim_state)\n",
    "ps = jnp.exp(get_logps(qs))"
   ]
  },
  {
   "cell_type": "markdown",
   "id": "2bd33865-7358-4447-ab3d-a880daa3d3e6",
   "metadata": {},
   "source": [
    "## Results"
   ]
  },
  {
   "cell_type": "markdown",
   "id": "b7984455-bffc-4f9d-8546-49a91a821ff3",
   "metadata": {},
   "source": [
    "Next, lets illustrate what the learned probabilities look like. We will do show, by plotting the probs in a heatmap, where the rows correspond to the headcounts and columns to the categories"
   ]
  },
  {
   "cell_type": "code",
   "execution_count": 5,
   "id": "49fba591-fdfe-46be-a225-39c850d73f47",
   "metadata": {},
   "outputs": [
    {
     "data": {
      "image/png": "[encoded data removed]",
      "text/plain": [
       "<Figure size 720x720 with 2 Axes>"
      ]
     },
     "metadata": {
      "needs_background": "light"
     },
     "output_type": "display_data"
    }
   ],
   "source": [
    "import matplotlib.pyplot as plt\n",
    "\n",
    "plt.close()\n",
    "\n",
    "fig, axis = plt.subplots(figsize=(10,10))\n",
    "\n",
    "im = axis.imshow(ps, aspect=n_cats / n_seats)\n",
    "cbar_ax = fig.add_axes([0.9, 0.12, 0.02, 0.76])\n",
    "fig.colorbar(im, cax=cbar_ax)\n",
    "\n",
    "plt.show()"
   ]
  },
  {
   "cell_type": "code",
   "execution_count": 6,
   "id": "b10a083e",
   "metadata": {},
   "outputs": [
    {
     "data": {
      "text/plain": [
       "DeviceArray([0.00345197, 0.00894535, 0.03364545, 0.14397173, 0.8099855 ],            dtype=float32)"
      ]
     },
     "execution_count": 6,
     "metadata": {},
     "output_type": "execute_result"
    }
   ],
   "source": [
    "ps[72]"
   ]
  },
  {
   "cell_type": "markdown",
   "id": "8f361ae8",
   "metadata": {},
   "source": [
    "### Empirical check for DPness\n",
    "\n",
    "Now as we have trained the utility scores, we can varify that the learned solution is DP. \n",
    "For $\\epsilon$-DP, we of course require \n",
    "\\begin{align}\n",
    "    | \\log \\Pr(M(C+1) = i) - \\log \\Pr(M(C) = i) | \\leq \\epsilon,\n",
    "\\end{align}\n",
    "for counts $C$ and $C+1$ produced by neighbouring data sets. We can verify this now simply by comparing the learned log-probabilities between concecutive counts."
   ]
  },
  {
   "cell_type": "code",
   "execution_count": 7,
   "id": "6f69cc26-b10f-4bde-9665-cbc6f42f1ed0",
   "metadata": {},
   "outputs": [
    {
     "name": "stdout",
     "output_type": "stream",
     "text": [
      "[0.09030628 0.08759284 0.0863173  0.0960691  0.08853006 0.08494997\n",
      " 0.09591913 0.09251475 0.09219956 0.09142017 0.09491372 0.0982753\n",
      " 0.09557557 0.09671187 0.09842211 0.09782487 0.09916496 0.09974885\n",
      " 0.09762311 0.09905338 0.09801543 0.09779358 0.09707689 0.09979963\n",
      " 0.09666729 0.09820569 0.09890807 0.09831643 0.09839511 0.09718704\n",
      " 0.09765029 0.09944201 0.09218717 0.09858823 0.0995717  0.09791231\n",
      " 0.09933829 0.09520733 0.09826159 0.09264719 0.09827244 0.09990001\n",
      " 0.09911633 0.09911299 0.09817141 0.09987223 0.09499717 0.09972072\n",
      " 0.09506726 0.09831762 0.09784675 0.09555626 0.09756029 0.09923398\n",
      " 0.09816718 0.09644842 0.09892535 0.09550166 0.09840524 0.09926283\n",
      " 0.09759575 0.09986442 0.0963819  0.09780622 0.09740925 0.09619188\n",
      " 0.09504855 0.09163094 0.09100962 0.09818196 0.09072709 0.09495747\n",
      " 0.08658278 0.09902716 0.09322309 0.09990048 0.08685589 0.0921576 ]\n",
      "0.099900484\n",
      "True\n",
      "75\n"
     ]
    }
   ],
   "source": [
    "logps = get_logps(qs)\n",
    "max_abs_logdiff_for_count = np.max(np.array([np.abs(logps[i] - logps[i+1]) for i in range(0, n_seats)]), axis=1)\n",
    "print(max_abs_logdiff_for_count)\n",
    "print(max_abs_logdiff_for_count.max())\n",
    "print(np.max(max_abs_logdiff_for_count) < eps)\n",
    "print(np.argmax(max_abs_logdiff_for_count))"
   ]
  },
  {
   "cell_type": "code",
   "execution_count": 8,
   "id": "643fe84c",
   "metadata": {},
   "outputs": [
    {
     "data": {
      "text/plain": [
       "0.4017810821533203"
      ]
     },
     "execution_count": 8,
     "metadata": {},
     "output_type": "execute_result"
    }
   ],
   "source": [
    "(np.exp(logps) * categories).sum(1).min()"
   ]
  },
  {
   "cell_type": "code",
   "execution_count": null,
   "id": "aa600f31",
   "metadata": {},
   "outputs": [],
   "source": []
  }
 ],
 "metadata": {
  "kernelspec": {
   "display_name": "Python 3",
   "language": "python",
   "name": "python3"
  },
  "language_info": {
   "codemirror_mode": {
    "name": "ipython",
    "version": 3
   },
   "file_extension": ".py",
   "mimetype": "text/x-python",
   "name": "python",
   "nbconvert_exporter": "python",
   "pygments_lexer": "ipython3",
   "version": "3.9.13"
  }
 },
 "nbformat": 4,
 "nbformat_minor": 5
}
