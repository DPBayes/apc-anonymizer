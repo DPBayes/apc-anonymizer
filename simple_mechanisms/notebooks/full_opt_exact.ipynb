{
 "cells": [
  {
   "cell_type": "code",
   "execution_count": 1,
   "id": "41601c13",
   "metadata": {},
   "outputs": [
    {
     "name": "stderr",
     "output_type": "stream",
     "text": [
      "/home/jalko/.conda/envs/waltti/lib/python3.9/site-packages/tqdm/auto.py:22: TqdmWarning: IProgress not found. Please update jupyter and ipywidgets. See https://ipywidgets.readthedocs.io/en/stable/user_install.html\n",
      "  from .autonotebook import tqdm as notebook_tqdm\n"
     ]
    }
   ],
   "source": [
    "import jax, tqdm\n",
    "import jax.numpy as jnp\n",
    "import numpy as np\n",
    "\n",
    "from jax import grad, jacobian, hessian\n",
    "from jax.nn import softmax, log_softmax\n",
    "\n",
    "from scipy.optimize import minimize\n",
    "\n",
    "from numpyro.optim import Adam\n",
    "\n",
    "from functools import partial\n",
    "\n",
    "np.random.seed(123)\n",
    "np.set_printoptions(suppress=True)"
   ]
  },
  {
   "cell_type": "markdown",
   "id": "22daf696",
   "metadata": {},
   "source": [
    "We want to minimize the probability of returning a wrong category under the DP guarantee. We do this by learning utility scores for the exponential mechanism. We also want to minimize the probability of releasing categories that are far from the truth. For the latter, we penalise the loss function with an distance penalty.\n",
    "\n",
    "## Setting the data\n",
    "\n",
    "Now replicate the setting described in the [Problem statement](https://github.com/tvv-lippu-ja-maksujarjestelma-oy/waltti-apc-anonymization-plan/blob/main/README.md)"
   ]
  },
  {
   "cell_type": "code",
   "execution_count": 2,
   "id": "3376bf96",
   "metadata": {},
   "outputs": [
    {
     "name": "stdout",
     "output_type": "stream",
     "text": [
      "[5, 40, 50, 65, 72, 78]\n",
      "[ 6. 35. 10. 15.  7.  6.]\n"
     ]
    }
   ],
   "source": [
    "n_seats = 78\n",
    "# n_cats = 5\n",
    "# cat_edges = [(i+1) * int(n_seats // n_cats) for i in range(n_cats)]\n",
    "# cat_edges[-1] = n_seats\n",
    "n_cats = 6\n",
    "cat_edges = [5, 40, 50, 65, 72, 78]\n",
    "print(cat_edges)\n",
    "categories = np.empty((n_seats+1, n_cats))\n",
    "j = 0\n",
    "for i in range(n_seats+1):\n",
    "    if i > cat_edges[j]:\n",
    "        j += 1\n",
    "    categories[i] = np.eye(n_cats)[j]\n",
    "print(np.sum(categories, axis=0))"
   ]
  },
  {
   "cell_type": "markdown",
   "id": "dacf6def",
   "metadata": {},
   "source": [
    "## Pre-training with SGD"
   ]
  },
  {
   "cell_type": "code",
   "execution_count": 3,
   "id": "147c4042",
   "metadata": {},
   "outputs": [
    {
     "name": "stderr",
     "output_type": "stream",
     "text": [
      "Loss -26.55: 100%|███████████████████████████████████████████████████████████████████████████████████████████████████████████| 100/100 [00:06<00:00, 14.83it/s]\n"
     ]
    }
   ],
   "source": [
    "eps = 1.0\n",
    "\n",
    "nu = 10.\n",
    "lamb = 0.001 # weight for l2 penalty\n",
    "#bandwidth = 0.1 # kernel bandwidth\n",
    "bandwidth = 0.001 # kernel bandwidth\n",
    "\n",
    "distances = np.abs(np.arange(0,n_cats).reshape(-1, 1) - np.arange(0,n_cats).reshape(1, -1))\n",
    "#kernel = np.exp(-distances / bandwidth)\n",
    "\n",
    "## Init with SGD\n",
    "from jax import value_and_grad\n",
    "def loss(qs):\n",
    "    logits = qs.reshape(n_seats+1, -1)\n",
    "    log_probs = jax.nn.log_softmax(logits, axis=1)\n",
    "    \n",
    "    n_cats = categories.shape[1]\n",
    "    \n",
    "    bce = np.sum(log_probs * categories)\n",
    "    #distance_penalty = 0.5 * jnp.sum(log_probs *  (categories @ kernel)) # we want to minimize prob. of releasing 'far away' categories\n",
    "    distance_penalty = bandwidth * jnp.sum(log_probs *  (categories @ distances)) # we want to minimize prob. of releasing 'far away' categories\n",
    "    l2_penalty = lamb * jnp.linalg.norm(qs) # penalty for large qs\n",
    "\n",
    "    # the dp penalty\n",
    "    ll_ratio = jnp.abs(log_probs[:-1] - log_probs[1:])\n",
    "    dp_penalty = nu * jax.nn.relu(ll_ratio - (eps-1e-5)).sum()\n",
    "\n",
    "    return -1.*bce + dp_penalty + distance_penalty + l2_penalty\n",
    "\n",
    "    # compute the log likelihood ratio\n",
    "learning_rate = 1e-3\n",
    "optimizer = Adam(learning_rate)\n",
    "\n",
    "def update_epoch(i, params):\n",
    "    optim_state, last_chunk_loss = params\n",
    "    qs = optimizer.get_params(optim_state)\n",
    "    loss_at_iter, grads = value_and_grad(partial(loss))(qs) \n",
    "    optim_state = optimizer.update(grads, optim_state)\n",
    "    return optim_state, loss_at_iter\n",
    "\n",
    "from jax.lax import fori_loop\n",
    "\n",
    "T = 1000000\n",
    "epoch_len = 10000 # this is essentially a chunk size. We split the learning into chucks to get some progress prints\n",
    "\n",
    "qs0 = jax.random.normal(\n",
    "                        jax.random.PRNGKey(0), \n",
    "                        shape=(int((n_seats + 1) * n_cats),)\n",
    "                    )\n",
    "optim_state = optimizer.init(qs0)\n",
    "\n",
    "progresss_bar = tqdm.tqdm(range(T // epoch_len))\n",
    "\n",
    "for epoch_nr in progresss_bar:\n",
    "    optim_state_new, loss_at_iter = fori_loop(0, epoch_len, update_epoch, (optim_state, 0.0))\n",
    "    progresss_bar.set_description(f\"Loss {loss_at_iter.item():.2f}\")\n",
    "    if jnp.isnan(loss_at_iter):\n",
    "        print(\"Nans!!!!!\")\n",
    "        break\n",
    "    optim_state = optim_state_new\n",
    "    "
   ]
  },
  {
   "cell_type": "markdown",
   "id": "c4c4b509",
   "metadata": {},
   "source": [
    "## Fine tuning with constrained optimization\n",
    "\n",
    "While we have the DP-penalty in the earlier loss funtion, it is still possible that the learned probabilities slighty violate the constraint. Thus we will now use constrained optimization tools to learn an exact solution for out task. We start by forcing the SGD learned solution to guarantee DP using the below `force_dp` function."
   ]
  },
  {
   "cell_type": "code",
   "execution_count": 4,
   "id": "ed525762",
   "metadata": {},
   "outputs": [
    {
     "name": "stdout",
     "output_type": "stream",
     "text": [
      "True\n"
     ]
    }
   ],
   "source": [
    "def force_dp(qs, tau=1e-3):\n",
    "    logits = qs.reshape(n_seats+1, -1)\n",
    "    new_logits = np.zeros(logits.shape)\n",
    "    logit_last = logits[0]\n",
    "    new_logits[0] = logit_last\n",
    "    for c in range(1, n_seats+1):\n",
    "        new_logits[c] = logits[c]\n",
    "        ll_ratio = jax.nn.log_softmax(new_logits[c]) - jax.nn.log_softmax(logit_last)\n",
    "        while jnp.abs(ll_ratio).max()>eps:\n",
    "            new_logits[c] = jnp.where(ll_ratio < -eps, new_logits[c]+tau, new_logits[c])\n",
    "            new_logits[c] = jnp.where(ll_ratio > eps, new_logits[c]-tau, new_logits[c])\n",
    "            ll_ratio = jax.nn.log_softmax(new_logits[c]) - jax.nn.log_softmax(logit_last)\n",
    "        logit_last = new_logits[c]\n",
    "    return new_logits.flatten()\n",
    "\n",
    "qs_from_sgd = optimizer.get_params(optim_state)\n",
    "qs_init_for_exact = force_dp(qs_from_sgd, 1e-3)\n",
    "\n",
    "def dp_cons_f(qs):\n",
    "    logits = qs.reshape(n_seats+1, -1)\n",
    "    log_probs = jax.nn.log_softmax(logits, axis=1)\n",
    "    return eps - jnp.abs(log_probs[1:] - log_probs[:-1]).max(1)\n",
    "\n",
    "print(np.all(dp_cons_f(qs_init_for_exact)>0.))"
   ]
  },
  {
   "cell_type": "markdown",
   "id": "49b0df33",
   "metadata": {},
   "source": [
    "### trust-constr\n",
    "Next, we will use `trust-constr` method with `scipy.minimize` to learn the optimal solution under the DP constraint."
   ]
  },
  {
   "cell_type": "code",
   "execution_count": 5,
   "id": "05fcc652",
   "metadata": {},
   "outputs": [
    {
     "name": "stdout",
     "output_type": "stream",
     "text": [
      "Running trust-constr\n",
      "`xtol` termination condition is satisfied.\n",
      "Number of iterations: 333, function evaluations: 333, CG iterations: 321, optimality: 1.18e-01, constraint violation: 6.60e+01, execution time: 1.2e+02 s.\n"
     ]
    }
   ],
   "source": [
    "# define the loss without DP penalty\n",
    "def loss_fn(qs):\n",
    "    logits = qs.reshape(n_seats+1, -1)\n",
    "    log_probs = jax.nn.log_softmax(logits, axis=1)\n",
    "    \n",
    "    n_cats = categories.shape[1]\n",
    "    \n",
    "    bce = np.sum(log_probs * categories)\n",
    "    #distance_penalty = 0.5 * jnp.sum(log_probs *  (categories @ kernel)) # we want to minimize prob. of releasing 'far away' categories\n",
    "    distance_penalty = bandwidth * jnp.sum(log_probs *  (categories @ distances)) # we want to minimize prob. of releasing 'far away' categories\n",
    "    l2_penalty = lamb * jnp.linalg.norm(qs) # penalty for large qs\n",
    "\n",
    "    return -1.*bce + distance_penalty + l2_penalty\n",
    "\n",
    "\n",
    "loss_hess_p = lambda x, v: hessian(loss_fn)(x) @ v\n",
    "\n",
    "dp_cons_J = jacobian(dp_cons_f)\n",
    "dp_cons_H = lambda x, v: jnp.sum(v.reshape(-1, 1, 1) * hessian(dp_cons_f)(x), axis=0)\n",
    "\n",
    "from scipy.optimize import NonlinearConstraint, Bounds\n",
    "nonlinear_constraint = NonlinearConstraint(dp_cons_f, 0., eps, jac=dp_cons_J, hess=dp_cons_H, keep_feasible=True)\n",
    "bounds = Bounds(-3.*np.ones(qs0.shape), 3*np.ones(qs0.shape))\n",
    "\n",
    "# initialize q to the SGD learned solution and force it to satisfy DP\n",
    "print(\"Running trust-constr\")\n",
    "res = minimize(loss_fn, qs_init_for_exact, method='trust-constr', jac=jacobian(loss_fn),\n",
    "               hessp=loss_hess_p, constraints=[nonlinear_constraint],\n",
    "               options={'verbose': True, 'maxiter': 1000, 'xtol': 1e-10},\n",
    "              bounds=bounds)\n",
    "\n",
    "final_ps = softmax(res.x.reshape(n_seats+1,-1), axis=1)"
   ]
  },
  {
   "cell_type": "markdown",
   "id": "61977bea",
   "metadata": {},
   "source": [
    "## Results\n",
    "\n",
    "Next, lets illustrate what the learned probabilities look like. We will do show, by plotting the probs in a heatmap, where the rows correspond to the headcounts and columns to the categories"
   ]
  },
  {
   "cell_type": "code",
   "execution_count": 6,
   "id": "0e6a7a18",
   "metadata": {},
   "outputs": [
    {
     "data": {
      "image/png": "[encoded data removed]",
      "text/plain": [
       "<Figure size 1000x1000 with 2 Axes>"
      ]
     },
     "metadata": {},
     "output_type": "display_data"
    }
   ],
   "source": [
    "import matplotlib.pyplot as plt\n",
    "\n",
    "plt.close()\n",
    "\n",
    "fig, axis = plt.subplots(figsize=(10,10))\n",
    "\n",
    "im = axis.imshow(final_ps, aspect=n_cats / n_seats, vmin=1e-4, vmax=1., norm='log')\n",
    "for edge in cat_edges[:-1]:\n",
    "    axis.axhline(edge+0.5, color='k', lw=1, ls=\"--\", alpha=0.5)\n",
    "cbar_ax = fig.add_axes([0.9, 0.12, 0.02, 0.76])\n",
    "fig.colorbar(im, cax=cbar_ax)\n",
    "fig.savefig(f\"probs_matrix_opt_trust_constr_{eps}.pdf\", format=\"pdf\", bbox_inches=\"tight\")\n",
    "plt.show()"
   ]
  },
  {
   "cell_type": "markdown",
   "id": "492dd928",
   "metadata": {},
   "source": [
    "### Empirical check for DPness\n",
    "\n",
    "Now as we have trained the utility scores, we can varify that the learned solution is DP. \n",
    "For $\\epsilon$-DP, we of course require \n",
    "\\begin{align}\n",
    "    | \\log \\Pr(M(C+1) = i) - \\log \\Pr(M(C) = i) | \\leq \\epsilon,\n",
    "\\end{align}\n",
    "for counts $C$ and $C+1$ produced by neighbouring data sets. We can verify this now simply by comparing the learned log-probabilities between concecutive counts."
   ]
  },
  {
   "cell_type": "code",
   "execution_count": 7,
   "id": "a8cb9fd6",
   "metadata": {},
   "outputs": [
    {
     "name": "stdout",
     "output_type": "stream",
     "text": [
      "[0.97634125 0.9820137  0.99086094 0.9934726  0.99614143 0.9995418\n",
      " 0.999019   0.9991684  0.9991622  0.9945555  0.9941597  0.9955673\n",
      " 0.9993415  0.99558926 0.9971628  0.997345   0.9960375  0.99849033\n",
      " 0.99916077 0.99638367 0.9969177  0.99676704 0.9969063  0.9983673\n",
      " 0.998291   0.99632645 0.99612236 0.99599457 0.9967232  0.99692917\n",
      " 0.99726486 0.99843216 0.99871445 0.9965534  0.99668884 0.9984932\n",
      " 0.99812984 0.99733734 0.9975815  0.9976692  0.9998853  0.998487\n",
      " 0.9995003  0.99804306 0.99894905 0.99903107 0.99778366 0.9990256\n",
      " 0.9989824  0.9981991  0.9999999  0.99829674 0.99952316 0.9986992\n",
      " 0.9974127  0.99931717 0.9981575  0.9982281  0.99837494 0.9982443\n",
      " 0.9982624  0.99722004 0.99987316 0.996454   0.99957407 0.99873817\n",
      " 0.9978771  0.9989791  0.99538016 0.9978111  0.9970474  0.99882114\n",
      " 0.9994874  0.9989728  0.99946594 0.9956131  0.99986076 0.9664612 ]\n",
      "0.9999999\n",
      "True\n"
     ]
    }
   ],
   "source": [
    "logps = np.log(final_ps)\n",
    "max_abs_logdiff_for_count = np.max(np.array([np.abs(logps[i] - logps[i+1]) for i in range(0, n_seats)]), axis=1)\n",
    "print(max_abs_logdiff_for_count)\n",
    "print(max_abs_logdiff_for_count.max())\n",
    "print(np.max(max_abs_logdiff_for_count) < eps)"
   ]
  },
  {
   "cell_type": "markdown",
   "id": "3b6ffb03",
   "metadata": {},
   "source": [
    "## Comparing the exact solution with the SGD learned one\n",
    "\n",
    "Now lets compare three different solutions for out task: (1) the one learned using just SGD, (2) the SGD solution forced to satisfy DP and (3) the exact solution."
   ]
  },
  {
   "cell_type": "markdown",
   "id": "0fd76184",
   "metadata": {},
   "source": [
    "### (1) Solution for SGD (might violate the DP constraint)"
   ]
  },
  {
   "cell_type": "code",
   "execution_count": 8,
   "id": "ed79f7fa",
   "metadata": {},
   "outputs": [
    {
     "name": "stdout",
     "output_type": "stream",
     "text": [
      "Average ll: -0.010069661773741245\n",
      "Max ll ratios per count (DP constraint):\n",
      " [0.9763794  0.9820328  0.99087214 0.9934819  0.9961457  1.0002735\n",
      " 0.9982891  0.9991684  0.9991641  0.9945612  0.9941635  0.99557114\n",
      " 0.99934196 0.9955931  0.9971676  0.997345   0.99604416 0.99849224\n",
      " 0.99916077 0.99638844 0.99692345 0.99676895 0.9969101  0.9983711\n",
      " 0.9982929  0.99633217 0.9961262  0.9959984  0.9967232  0.99692917\n",
      " 0.9972725  0.998436   0.99871826 0.99655724 0.99669266 0.9984894\n",
      " 0.9981327  0.997345   0.9975815  0.99759436 0.999259   0.99848676\n",
      " 0.9995022  0.99804306 0.99894905 0.9990349  0.9977875  0.99902654\n",
      " 0.99898434 0.99819994 0.99971944 0.99830055 0.9995241  0.9986992\n",
      " 0.99741554 1.0003185  0.9981613  0.99823093 0.9983711  0.99824715\n",
      " 0.99826336 0.9972229  1.0000162  0.99628067 0.99957466 0.9986029\n",
      " 0.99788046 0.9989786  0.99538445 0.99781203 0.99705505 0.998822\n",
      " 0.9994885  0.9989737  0.9994736  0.9956198  0.9998627  0.9664993 ]\n",
      "Max ll ratios over counts: 1.0003185\n"
     ]
    }
   ],
   "source": [
    "logits_sgd = qs_from_sgd.reshape(n_seats+1, -1)\n",
    "log_probs_sgd = jax.nn.log_softmax(logits_sgd, axis=1)\n",
    "\n",
    "# average log-likelihood for releasing the correct category\n",
    "avg_correct_sgd = (categories * log_probs_sgd).mean()\n",
    "print(f\"Average ll: {avg_correct_sgd}\")\n",
    "\n",
    "\n",
    "# DP likelihood ratio\n",
    "max_abs_logdiff_for_count_sgd = np.max(\n",
    "                                    np.array([np.abs(log_probs_sgd[i]-log_probs_sgd[i+1]) \n",
    "                                             for i in range(0, n_seats)]\n",
    "                                            ), \n",
    "                                    axis=1\n",
    "                                    )\n",
    "print(\"Max ll ratios per count (DP constraint):\\n\", max_abs_logdiff_for_count_sgd)\n",
    "print(\"Max ll ratios over counts:\", max_abs_logdiff_for_count_sgd.max())"
   ]
  },
  {
   "cell_type": "markdown",
   "id": "2a16c532",
   "metadata": {},
   "source": [
    "### (2) SGD solution forced to DP"
   ]
  },
  {
   "cell_type": "code",
   "execution_count": 9,
   "id": "60e32b9a",
   "metadata": {},
   "outputs": [
    {
     "name": "stdout",
     "output_type": "stream",
     "text": [
      "Average ll: -0.010070150718092918\n",
      "Max ll ratios per count (DP constraint):\n",
      " [0.9763794  0.9820328  0.99087214 0.9934819  0.9961457  0.999542\n",
      " 0.9990206  0.9991684  0.9991641  0.9945612  0.9941635  0.99557114\n",
      " 0.99934196 0.9955931  0.9971676  0.997345   0.99604416 0.99849224\n",
      " 0.99916077 0.99638844 0.99692345 0.99676895 0.9969101  0.9983711\n",
      " 0.9982929  0.99633217 0.9961262  0.9959984  0.9967232  0.99692917\n",
      " 0.9972725  0.998436   0.99871826 0.99655724 0.99669266 0.9984894\n",
      " 0.9981327  0.997345   0.9975815  0.99759436 0.999259   0.99848676\n",
      " 0.9995022  0.99804306 0.99894905 0.9990349  0.9977875  0.99902654\n",
      " 0.99898434 0.99819994 0.99971944 0.99830055 0.9995241  0.9986992\n",
      " 0.99741554 0.9993191  0.9981613  0.99823093 0.9983711  0.99824715\n",
      " 0.99826336 0.9972229  0.999876   0.9964583  0.99957466 0.9986029\n",
      " 0.99788046 0.9989786  0.99538445 0.99781203 0.99705505 0.998822\n",
      " 0.9994885  0.9989737  0.9994736  0.9956198  0.9998627  0.9664993 ]\n",
      "Max ll ratios over counts: 0.999876\n"
     ]
    }
   ],
   "source": [
    "logits_forced = qs_init_for_exact.reshape(n_seats+1, -1)\n",
    "log_probs_forced = jax.nn.log_softmax(logits_forced, axis=1)\n",
    "\n",
    "# average log-likelihood for releasing the correct category\n",
    "avg_correct_forced = (categories * log_probs_forced).mean()\n",
    "print(f\"Average ll: {avg_correct_forced}\")\n",
    "\n",
    "\n",
    "# DP likelihood ratio\n",
    "max_abs_logdiff_for_count_forced = np.max(\n",
    "                                    np.array([np.abs(log_probs_forced[i]-log_probs_forced[i+1]) \n",
    "                                              for i in range(0, n_seats)]\n",
    "                                            ), \n",
    "                                    axis=1\n",
    "                                    )\n",
    "print(\"Max ll ratios per count (DP constraint):\\n\", max_abs_logdiff_for_count_forced)\n",
    "print(\"Max ll ratios over counts:\", max_abs_logdiff_for_count_forced.max())"
   ]
  },
  {
   "cell_type": "markdown",
   "id": "3e459835",
   "metadata": {},
   "source": [
    "### (3) Solution from constrained optimization using previous as initial value"
   ]
  },
  {
   "cell_type": "code",
   "execution_count": 10,
   "id": "58dcdfa5",
   "metadata": {},
   "outputs": [
    {
     "name": "stdout",
     "output_type": "stream",
     "text": [
      "Average ll: -0.010064487345516682\n",
      "Max ll ratios per count (DP constraint):\n",
      " [0.97634125 0.9820137  0.9908607  0.9934728  0.99614143 0.9995419\n",
      " 0.999019   0.9991684  0.9991622  0.994555   0.9941597  0.9955673\n",
      " 0.99934196 0.9955883  0.9971638  0.997345   0.99603844 0.99849033\n",
      " 0.99915695 0.99638367 0.9969177  0.99676704 0.9969063  0.9983673\n",
      " 0.998291   0.99632645 0.99612236 0.99599457 0.9967232  0.99692917\n",
      " 0.99726486 0.99843216 0.99871826 0.9965534  0.99668884 0.9984932\n",
      " 0.99812984 0.99733734 0.9975815  0.9976692  0.99988544 0.998487\n",
      " 0.9995003  0.99804306 0.99894905 0.99903107 0.99778366 0.9990256\n",
      " 0.9989824  0.9981992  0.9999998  0.99829674 0.99952316 0.9986992\n",
      " 0.9974117  0.99931717 0.9981613  0.9982281  0.99837494 0.9982443\n",
      " 0.9982624  0.99722004 0.99987316 0.996454   0.99957407 0.99873817\n",
      " 0.9978771  0.9989791  0.99538016 0.9978111  0.9970474  0.998821\n",
      " 0.9994875  0.9989728  0.99946594 0.9956131  0.99986076 0.9664612 ]\n",
      "Max ll ratios over counts: 0.9999998\n"
     ]
    }
   ],
   "source": [
    "logits_exact = res.x.reshape(n_seats+1, -1)\n",
    "log_probs_exact = jax.nn.log_softmax(logits_exact, axis=1)\n",
    "\n",
    "# average log-likelihood for releasing the correct category\n",
    "avg_correct_exact = (categories * log_probs_exact).mean()\n",
    "print(f\"Average ll: {avg_correct_exact}\")\n",
    "\n",
    "\n",
    "# DP likelihood ratio\n",
    "max_abs_logdiff_for_count_exact = np.max(\n",
    "                                    np.array([np.abs(log_probs_exact[i]-log_probs_exact[i+1]) \n",
    "                                              for i in range(0, n_seats)]\n",
    "                                            ), \n",
    "                                    axis=1\n",
    "                                    )\n",
    "print(\"Max ll ratios per count (DP constraint):\\n\", max_abs_logdiff_for_count_exact)\n",
    "print(\"Max ll ratios over counts:\", max_abs_logdiff_for_count_exact.max())"
   ]
  },
  {
   "cell_type": "markdown",
   "id": "3c6d8e24",
   "metadata": {},
   "source": [
    "### The exact optimizer struggles to learn a good solution  from scratch"
   ]
  },
  {
   "cell_type": "code",
   "execution_count": 11,
   "id": "b3bffeb3",
   "metadata": {},
   "outputs": [
    {
     "name": "stdout",
     "output_type": "stream",
     "text": [
      "Running trust-constr\n",
      "`xtol` termination condition is satisfied.\n",
      "Number of iterations: 657, function evaluations: 1129, CG iterations: 651, optimality: 3.31e-01, constraint violation: 0.00e+00, execution time: 1.8e+02 s.\n"
     ]
    }
   ],
   "source": [
    "# define the loss without DP penalty\n",
    "def loss_fn(qs):\n",
    "    logits = qs.reshape(n_seats+1, -1)\n",
    "    log_probs = jax.nn.log_softmax(logits, axis=1)\n",
    "    \n",
    "    n_cats = categories.shape[1]\n",
    "    \n",
    "    bce = np.sum(log_probs * categories)\n",
    "    #distance_penalty = 0.5 * jnp.sum(log_probs *  (categories @ kernel)) # we want to minimize prob. of releasing 'far away' categories\n",
    "    distance_penalty = bandwidth * jnp.sum(log_probs *  (categories @ distances)) # we want to minimize prob. of releasing 'far away' categories\n",
    "    l2_penalty = lamb * jnp.linalg.norm(qs) # penalty for large qs\n",
    "\n",
    "    return -1.*bce + distance_penalty + l2_penalty\n",
    "\n",
    "\n",
    "loss_hess_p = lambda x, v: hessian(loss_fn)(x) @ v\n",
    "\n",
    "dp_cons_J = jacobian(dp_cons_f)\n",
    "dp_cons_H = lambda x, v: jnp.sum(v.reshape(-1, 1, 1) * hessian(dp_cons_f)(x), axis=0)\n",
    "\n",
    "from scipy.optimize import NonlinearConstraint, Bounds\n",
    "nonlinear_constraint = NonlinearConstraint(dp_cons_f, 0., eps+1e-6, jac=dp_cons_J, hess=dp_cons_H, keep_feasible=True)\n",
    "bounds = Bounds(-3.*np.ones(qs0.shape), 3*np.ones(qs0.shape))\n",
    "\n",
    "# initialize q to the SGD learned solution and force it to satisfy DP\n",
    "qs0_uniform = 0.001*jax.random.normal(\n",
    "                        jax.random.PRNGKey(0), \n",
    "                        shape=(int((n_seats + 1) * n_cats),)\n",
    "                    )\n",
    "print(\"Running trust-constr\")\n",
    "res_full = minimize(loss_fn, qs0_uniform, method='trust-constr', jac=jacobian(loss_fn),\n",
    "               hessp=loss_hess_p, constraints=[nonlinear_constraint],\n",
    "               options={'verbose': True, 'maxiter': 1000, 'xtol': 1e-15, 'gtol': 1e-10},\n",
    "              bounds=bounds)\n",
    "\n",
    "final_ps_full = softmax(res_full.x.reshape(n_seats+1,-1), axis=1)"
   ]
  },
  {
   "cell_type": "code",
   "execution_count": 12,
   "id": "0eb7d0b7",
   "metadata": {},
   "outputs": [
    {
     "name": "stdout",
     "output_type": "stream",
     "text": [
      "Average ll: -0.09776836633682251\n",
      "Max ll ratios per count (DP constraint):\n",
      " [0.05768418 0.02180457 0.01965666 0.26836443 0.22294569 0.9925369\n",
      " 0.45406556 0.05934215 0.10424829 0.01894879 0.00340891 0.00706673\n",
      " 0.03249431 0.00303793 0.00304198 0.00153685 0.00414324 0.00518608\n",
      " 0.00274825 0.00409293 0.00311494 0.0041647  0.00332427 0.002882\n",
      " 0.00252652 0.00334239 0.00216746 0.00304389 0.00358987 0.00208688\n",
      " 0.00072527 0.00213933 0.00454831 0.0050087  0.02490997 0.01671982\n",
      " 0.08238125 0.09283543 0.03329992 0.32345796 0.99105525 0.5443524\n",
      " 0.06809402 0.00761938 0.00446081 0.01279831 0.055089   0.0861516\n",
      " 0.1780932  0.33943284 0.9637981  0.5521431  0.02235603 0.02882361\n",
      " 0.00557446 0.01594663 0.03813004 0.00474262 0.02342319 0.00831199\n",
      " 0.05917192 0.001127   0.02716136 0.0332365  0.49354947 0.9999991\n",
      " 0.3632505  0.04373264 0.10987043 0.06137824 0.05426979 0.52675605\n",
      " 0.9731442  0.3446145  0.14042258 0.10013151 0.0066185  0.00383234]\n",
      "Max ll ratios over counts: 0.9999991\n"
     ]
    }
   ],
   "source": [
    "logits_full = res_full.x.reshape(n_seats+1, -1)\n",
    "log_probs_full = jax.nn.log_softmax(logits_full, axis=1)\n",
    "\n",
    "# average log-likelihood for releasing the correct category\n",
    "avg_correct_full = (categories * log_probs_full).mean()\n",
    "print(f\"Average ll: {avg_correct_full}\")\n",
    "\n",
    "\n",
    "# DP likelihood ratio\n",
    "max_abs_logdiff_for_count_full = np.max(\n",
    "                                    np.array([np.abs(log_probs_full[i]-log_probs_full[i+1]) \n",
    "                                              for i in range(0, n_seats)]\n",
    "                                            ), \n",
    "                                    axis=1\n",
    "                                    )\n",
    "print(\"Max ll ratios per count (DP constraint):\\n\", max_abs_logdiff_for_count_full)\n",
    "print(\"Max ll ratios over counts:\", max_abs_logdiff_for_count_full.max())"
   ]
  },
  {
   "cell_type": "markdown",
   "id": "3d2181ee",
   "metadata": {},
   "source": [
    "### Probabilities corresponding to the table in Waltti's git"
   ]
  },
  {
   "cell_type": "code",
   "execution_count": 13,
   "id": "80c3c08f",
   "metadata": {},
   "outputs": [],
   "source": [
    "log_probs_exact = jax.nn.log_softmax(logits_exact, axis=1)\n",
    "probs_exact = jnp.exp(log_probs_exact)\n",
    "probs_rounded = np.round(100*probs_exact, 3)\n",
    "import pandas as pd\n",
    "category_names = [\n",
    "                    \"EMPTY\", \"MANY_SEATS_AVAILABLE\", \"FEW_SEATS_AVAILABLE\", \n",
    "                    \"STANDING_ROOM_ONLY\", \"CRUSHED_STANDING_ROOM_ONLY\", \"FULL\"\n",
    "                 ]\n",
    "probs_df = pd.DataFrame(probs_rounded, columns=category_names)"
   ]
  },
  {
   "cell_type": "code",
   "execution_count": 14,
   "id": "6d5317ab",
   "metadata": {},
   "outputs": [
    {
     "name": "stdout",
     "output_type": "stream",
     "text": [
      "\\begin{tabular}{lrrrrrr}\n",
      "\\toprule\n",
      "{} &  EMPTY &  MANY\\_SEATS\\_AVAILABLE &  FEW\\_SEATS\\_AVAILABLE &  STANDING\\_ROOM\\_ONLY &  CRUSHED\\_STANDING\\_ROOM\\_ONLY &  FULL \\\\\n",
      "\\midrule\n",
      "3 &  96.31 &                  3.69 &                 0.00 &                0.00 &                        0.00 &  0.00 \\\\\n",
      "4 &  90.05 &                  9.95 &                 0.00 &                0.00 &                        0.00 &  0.00 \\\\\n",
      "5 &  73.05 &                 26.95 &                 0.00 &                0.00 &                        0.00 &  0.00 \\\\\n",
      "6 &  26.89 &                 73.12 &                 0.00 &                0.00 &                        0.00 &  0.00 \\\\\n",
      "7 &   9.90 &                 90.10 &                 0.00 &                0.00 &                        0.00 &  0.00 \\\\\n",
      "8 &   3.69 &                 96.31 &                 0.00 &                0.00 &                        0.00 &  0.00 \\\\\n",
      "\\bottomrule\n",
      "\\end{tabular}\n",
      "\n"
     ]
    },
    {
     "name": "stderr",
     "output_type": "stream",
     "text": [
      "/tmp/ipykernel_401818/3774322984.py:1: FutureWarning: In future versions `DataFrame.to_latex` is expected to utilise the base implementation of `Styler.to_latex` for formatting and rendering. The arguments signature may therefore change. It is recommended instead to use `DataFrame.style.to_latex` which also contains additional functionality.\n",
      "  print(probs_df.iloc[3:9].to_latex(float_format=\"{:0.2f}\".format))\n"
     ]
    }
   ],
   "source": [
    "print(probs_df.iloc[3:9].to_latex(float_format=\"{:0.2f}\".format))"
   ]
  },
  {
   "cell_type": "code",
   "execution_count": null,
   "id": "e6a22c36",
   "metadata": {},
   "outputs": [],
   "source": []
  }
 ],
 "metadata": {
  "kernelspec": {
   "display_name": "Python 3 (ipykernel)",
   "language": "python",
   "name": "python3"
  },
  "language_info": {
   "codemirror_mode": {
    "name": "ipython",
    "version": 3
   },
   "file_extension": ".py",
   "mimetype": "text/x-python",
   "name": "python",
   "nbconvert_exporter": "python",
   "pygments_lexer": "ipython3",
   "version": "3.9.13"
  }
 },
 "nbformat": 4,
 "nbformat_minor": 5
}
