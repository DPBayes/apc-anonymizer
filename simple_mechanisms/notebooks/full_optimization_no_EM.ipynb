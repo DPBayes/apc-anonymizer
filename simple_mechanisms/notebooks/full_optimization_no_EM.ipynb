{
 "cells": [
  {
   "cell_type": "code",
   "execution_count": 1,
   "id": "3652acce-a577-4e6c-8a00-761968ac98c8",
   "metadata": {},
   "outputs": [
    {
     "name": "stderr",
     "output_type": "stream",
     "text": [
      "/home/jalko/.conda/envs/waltti/lib/python3.9/site-packages/tqdm/auto.py:22: TqdmWarning: IProgress not found. Please update jupyter and ipywidgets. See https://ipywidgets.readthedocs.io/en/stable/user_install.html\n",
      "  from .autonotebook import tqdm as notebook_tqdm\n"
     ]
    }
   ],
   "source": [
    "import jax, tqdm\n",
    "import jax.numpy as jnp\n",
    "import numpy as np\n",
    "\n",
    "from jax import grad, value_and_grad\n",
    "from jax.nn import softmax, log_softmax\n",
    "\n",
    "from numpyro.optim import Adam\n",
    "\n",
    "from functools import partial\n",
    "\n",
    "np.random.seed(123)\n",
    "np.set_printoptions(suppress=True)"
   ]
  },
  {
   "cell_type": "markdown",
   "id": "19ebbe58-ac5f-4202-a7cb-5cccaf5a846e",
   "metadata": {},
   "source": [
    "We want to minimize the probability of returning a wrong category under the DP guarantee. We do this by learning utility scores for the exponential mechanism."
   ]
  },
  {
   "cell_type": "code",
   "execution_count": 2,
   "id": "a4a9c89c-36e2-45cb-9bb4-2d4d8583c64c",
   "metadata": {},
   "outputs": [],
   "source": [
    "lamb = 0.001 # weight for l2 penalty\n",
    "bandwidth = 0.1 # kernel bandwidth\n",
    "nu = 10. # weight for DP penalty\n",
    "\n",
    "def get_logps(qs):\n",
    "    log_ps = log_softmax(qs, axis=1)\n",
    "    return log_ps\n",
    "\n",
    "#cat_edges = [5, 40, 50, 65, 72, 78] # NOTE\n",
    "def loss(qs, categories, eps):\n",
    "    n_cats = categories.shape[1]\n",
    "    distances = np.abs(np.arange(0,n_cats).reshape(-1, 1) - np.arange(0,n_cats).reshape(1, -1))\n",
    "    kernel = np.exp(-distances / bandwidth)\n",
    "    logps = get_logps(qs)\n",
    "    \n",
    "    bce = -1. * jnp.sum(logps * categories) # we want to maximize prob. of releasing the correct label\n",
    "    distance_penalty = 0.5 * jnp.sum(logps *  (categories @ kernel)) # we want to minimize prob. of releasing 'far away' categories\n",
    "    l2_penalty = lamb * jnp.linalg.norm(qs) # we want to keep the utility scores reasonable to avoid numerical issues\n",
    "    \n",
    "    # compute the log likelihood ratio\n",
    "    ll_ratio = jnp.abs(logps[:-1] - logps[1:])\n",
    "    #dp_penalty = jnp.exp(nu * jax.nn.relu(ll_ratio - eps)).sum()\n",
    "    # the dp penalty\n",
    "    dp_penalty = nu * jax.nn.relu(ll_ratio - (eps-1e-5)).sum()\n",
    "    return bce + distance_penalty + l2_penalty + dp_penalty"
   ]
  },
  {
   "cell_type": "markdown",
   "id": "14183b6b-f0f7-42a8-bf37-8e79c0f4dae3",
   "metadata": {},
   "source": [
    "## Setting the data"
   ]
  },
  {
   "cell_type": "markdown",
   "id": "cedac0b1-da07-4347-b7a9-2ba03be69f52",
   "metadata": {},
   "source": [
    "Now replicate the setting described in the [Problem statement](https://github.com/tvv-lippu-ja-maksujarjestelma-oy/waltti-apc-anonymization-plan/blob/main/README.md)"
   ]
  },
  {
   "cell_type": "code",
   "execution_count": 3,
   "id": "b7491854-d683-4b8d-8ff3-4dc135096c9c",
   "metadata": {},
   "outputs": [
    {
     "name": "stdout",
     "output_type": "stream",
     "text": [
      "[5, 40, 50, 65, 72, 78]\n",
      "[ 6. 35. 10. 15.  7.  6.]\n"
     ]
    }
   ],
   "source": [
    "n_seats = 78\n",
    "# n_cats = 5\n",
    "# cat_edges = [(i+1) * int(n_seats // n_cats) for i in range(n_cats)]\n",
    "# cat_edges[-1] = n_seats\n",
    "n_cats = 6\n",
    "cat_edges = [5, 40, 50, 65, 72, 78]\n",
    "print(cat_edges)\n",
    "categories = np.empty((n_seats+1, n_cats))\n",
    "j = 0\n",
    "for i in range(n_seats+1):\n",
    "    if i > cat_edges[j]:\n",
    "        j += 1\n",
    "    categories[i] = np.eye(n_cats)[j]\n",
    "print(np.sum(categories, axis=0))"
   ]
  },
  {
   "cell_type": "markdown",
   "id": "54a72765-db7f-4554-bd67-20c4b99438b9",
   "metadata": {},
   "source": [
    "## Training"
   ]
  },
  {
   "cell_type": "markdown",
   "id": "f18e6c51-ab33-4082-a203-212e3f4829da",
   "metadata": {},
   "source": [
    "Now, lets train the model"
   ]
  },
  {
   "cell_type": "code",
   "execution_count": 4,
   "id": "89aa9f58-6590-4c86-be4e-8de2c21e0a64",
   "metadata": {},
   "outputs": [
    {
     "name": "stdout",
     "output_type": "stream",
     "text": [
      "Initial loss: 70.8137435913086\n"
     ]
    },
    {
     "name": "stderr",
     "output_type": "stream",
     "text": [
      "Loss 23.37: 100%|██████████████████████████████████████████| 1000/1000 [01:00<00:00, 16.43it/s]\n"
     ]
    }
   ],
   "source": [
    "eps = .1\n",
    "init_qs = jnp.array(np.random.randn(n_seats+1, n_cats) * 0.1)\n",
    "\n",
    "learning_rate = 1e-3\n",
    "optimizer = Adam(learning_rate)\n",
    "\n",
    "def update_epoch(i, params):\n",
    "    optim_state, last_chunk_loss = params\n",
    "    qs = optimizer.get_params(optim_state)\n",
    "    loss_at_iter, grads = value_and_grad(partial(loss, categories=categories, eps=eps))(qs) \n",
    "    optim_state = optimizer.update(grads, optim_state)\n",
    "    return optim_state, loss_at_iter\n",
    "\n",
    "from jax.lax import fori_loop\n",
    "\n",
    "T = 10000000\n",
    "epoch_len = 10000 # this is essentially a chunk size. We split the learning into chucks to get some progress prints\n",
    "optim_state = optimizer.init(init_qs)\n",
    "\n",
    "print(f\"Initial loss: {loss(optimizer.get_params(optim_state), categories, 1.0)}\")\n",
    "\n",
    "progresss_bar = tqdm.tqdm(range(T // epoch_len))\n",
    "\n",
    "for epoch_nr in progresss_bar:\n",
    "    optim_state_new, loss_at_iter = fori_loop(0, epoch_len, update_epoch, (optim_state, 0.0))\n",
    "    progresss_bar.set_description(f\"Loss {loss_at_iter.item():.2f}\")\n",
    "    if jnp.isnan(loss_at_iter):\n",
    "        print(\"Nans!!!!!\")\n",
    "        break\n",
    "    optim_state = optim_state_new\n",
    "    \n",
    "qs = optimizer.get_params(optim_state)\n",
    "ps = jnp.exp(get_logps(qs))"
   ]
  },
  {
   "cell_type": "markdown",
   "id": "2bd33865-7358-4447-ab3d-a880daa3d3e6",
   "metadata": {},
   "source": [
    "## Results"
   ]
  },
  {
   "cell_type": "markdown",
   "id": "b7984455-bffc-4f9d-8546-49a91a821ff3",
   "metadata": {},
   "source": [
    "Next, lets illustrate what the learned probabilities look like. We will do show, by plotting the probs in a heatmap, where the rows correspond to the headcounts and columns to the categories"
   ]
  },
  {
   "cell_type": "code",
   "execution_count": 5,
   "id": "49fba591-fdfe-46be-a225-39c850d73f47",
   "metadata": {},
   "outputs": [
    {
     "data": {
      "image/png": "[encoded data removed]",
      "text/plain": [
       "<Figure size 1000x1000 with 2 Axes>"
      ]
     },
     "metadata": {},
     "output_type": "display_data"
    }
   ],
   "source": [
    "import matplotlib.pyplot as plt\n",
    "\n",
    "plt.close()\n",
    "\n",
    "fig, axis = plt.subplots(figsize=(10,10))\n",
    "\n",
    "#im = axis.imshow(ps, aspect=n_cats / n_seats)\n",
    "im = axis.imshow(ps, aspect=n_cats / n_seats, vmin=1e-4, vmax=1., norm='log')\n",
    "for edge in cat_edges[:-1]:\n",
    "    axis.axhline(edge+0.5, color='k', lw=1, ls=\"--\", alpha=0.5)\n",
    "cbar_ax = fig.add_axes([0.9, 0.12, 0.02, 0.76])\n",
    "fig.colorbar(im, cax=cbar_ax)\n",
    "fig.savefig(\"probs_matrix_opt.pdf\", format=\"pdf\", bbox_inches=\"tight\")\n",
    "plt.show()"
   ]
  },
  {
   "cell_type": "code",
   "execution_count": 6,
   "id": "b10a083e",
   "metadata": {},
   "outputs": [
    {
     "data": {
      "text/plain": [
       "DeviceArray([0.00074504, 0.02110097, 0.03965731, 0.2162031 , 0.3715316 ,\n",
       "             0.35076195], dtype=float32)"
      ]
     },
     "execution_count": 6,
     "metadata": {},
     "output_type": "execute_result"
    }
   ],
   "source": [
    "ps[72]"
   ]
  },
  {
   "cell_type": "markdown",
   "id": "8f361ae8",
   "metadata": {},
   "source": [
    "### Empirical check for DPness\n",
    "\n",
    "Now as we have trained the utility scores, we can varify that the learned solution is DP. \n",
    "For $\\epsilon$-DP, we of course require \n",
    "\\begin{align}\n",
    "    | \\log \\Pr(M(C+1) = i) - \\log \\Pr(M(C) = i) | \\leq \\epsilon,\n",
    "\\end{align}\n",
    "for counts $C$ and $C+1$ produced by neighbouring data sets. We can verify this now simply by comparing the learned log-probabilities between concecutive counts."
   ]
  },
  {
   "cell_type": "code",
   "execution_count": 7,
   "id": "6f69cc26-b10f-4bde-9665-cbc6f42f1ed0",
   "metadata": {},
   "outputs": [
    {
     "name": "stdout",
     "output_type": "stream",
     "text": [
      "[0.10027122 0.09852225 0.09969026 0.09981108 0.09884238 0.10018921\n",
      " 0.09972358 0.09988391 0.09880435 0.09995985 0.09926736 0.10023141\n",
      " 0.09963119 0.09699237 0.09872401 0.09979868 0.09816599 0.09974813\n",
      " 0.09704113 0.09899783 0.09810734 0.09990096 0.09930539 0.09993124\n",
      " 0.0997622  0.0986681  0.10002756 0.09768701 0.09919953 0.09871793\n",
      " 0.10013556 0.09955156 0.098984   0.09971464 0.09968019 0.09987748\n",
      " 0.09926629 0.10014904 0.09981537 0.0999949  0.09948808 0.10016662\n",
      " 0.09979278 0.10013664 0.09950042 0.09981489 0.09995747 0.09981775\n",
      " 0.10025024 0.0998528  0.10012501 0.09957123 0.09957182 0.0999769\n",
      " 0.09976637 0.09986448 0.10001779 0.09943008 0.09960914 0.09918118\n",
      " 0.10019636 0.09962797 0.10016537 0.10013342 0.10003853 0.10011578\n",
      " 0.09969306 0.09989834 0.09959948 0.0999006  0.10034013 0.09954369\n",
      " 0.09951663 0.09992415 0.09983617 0.09951341 0.09694314 0.09775877]\n",
      "0.10034013\n",
      "False\n",
      "70\n"
     ]
    }
   ],
   "source": [
    "logps = get_logps(qs)\n",
    "max_abs_logdiff_for_count = np.max(np.array([np.abs(logps[i] - logps[i+1]) for i in range(0, n_seats)]), axis=1)\n",
    "print(max_abs_logdiff_for_count)\n",
    "print(max_abs_logdiff_for_count.max())\n",
    "print(np.max(max_abs_logdiff_for_count) < eps)\n",
    "print(np.argmax(max_abs_logdiff_for_count))"
   ]
  },
  {
   "cell_type": "code",
   "execution_count": 8,
   "id": "745ec0dc",
   "metadata": {},
   "outputs": [
    {
     "name": "stdout",
     "output_type": "stream",
     "text": [
      "0.09950526\n"
     ]
    }
   ],
   "source": [
    "print(max_abs_logdiff_for_count.mean())"
   ]
  },
  {
   "cell_type": "code",
   "execution_count": 9,
   "id": "643fe84c",
   "metadata": {},
   "outputs": [
    {
     "data": {
      "text/plain": [
       "array([0.62164021, 0.58195788, 0.53878206, 0.49088296, 0.44425321,\n",
       "       0.40244251, 0.61650258, 0.64948779, 0.6787253 , 0.70452577,\n",
       "       0.72775167, 0.74822778, 0.76633686, 0.78202271, 0.79511058,\n",
       "       0.80647016, 0.81603861, 0.82381862, 0.83027327, 0.83460426,\n",
       "       0.83731037, 0.83871877, 0.83831781, 0.83680284, 0.83343023,\n",
       "       0.82823551, 0.8217479 , 0.81338888, 0.80330479, 0.79133075,\n",
       "       0.77717614, 0.76060158, 0.74205446, 0.72070026, 0.6966427 ,\n",
       "       0.67002547, 0.63974971, 0.60596085, 0.56805557, 0.52612209,\n",
       "       0.47947067, 0.35807583, 0.380523  , 0.39680174, 0.40721643,\n",
       "       0.41159049, 0.40956742, 0.40191498, 0.38849857, 0.36854666,\n",
       "       0.34239018, 0.41121703, 0.44447923, 0.47277555, 0.49571499,\n",
       "       0.51355827, 0.52612513, 0.53402275, 0.53763008, 0.53658807,\n",
       "       0.53091514, 0.5204556 , 0.50524008, 0.48509353, 0.45989752,\n",
       "       0.42943308, 0.30553326, 0.33241779, 0.35318717, 0.36739403,\n",
       "       0.37521586, 0.3767961 , 0.37153158, 0.38746455, 0.4281821 ,\n",
       "       0.4731369 , 0.52243286, 0.56547046, 0.60515475])"
      ]
     },
     "execution_count": 9,
     "metadata": {},
     "output_type": "execute_result"
    }
   ],
   "source": [
    "(np.exp(logps) * categories).sum(1)"
   ]
  },
  {
   "cell_type": "code",
   "execution_count": 10,
   "id": "aa600f31",
   "metadata": {},
   "outputs": [
    {
     "data": {
      "text/plain": [
       "0.5800150749804098"
      ]
     },
     "execution_count": 10,
     "metadata": {},
     "output_type": "execute_result"
    }
   ],
   "source": [
    "(np.exp(logps) * categories).sum(1).mean()"
   ]
  },
  {
   "cell_type": "code",
   "execution_count": null,
   "id": "0c4aa2a4",
   "metadata": {},
   "outputs": [],
   "source": []
  }
 ],
 "metadata": {
  "kernelspec": {
   "display_name": "Python 3 (ipykernel)",
   "language": "python",
   "name": "python3"
  },
  "language_info": {
   "codemirror_mode": {
    "name": "ipython",
    "version": 3
   },
   "file_extension": ".py",
   "mimetype": "text/x-python",
   "name": "python",
   "nbconvert_exporter": "python",
   "pygments_lexer": "ipython3",
   "version": "3.9.13"
  }
 },
 "nbformat": 4,
 "nbformat_minor": 5
}
