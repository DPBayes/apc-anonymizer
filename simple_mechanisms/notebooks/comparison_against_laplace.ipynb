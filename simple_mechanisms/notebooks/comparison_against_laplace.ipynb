{
 "cells": [
  {
   "cell_type": "code",
   "execution_count": 1,
   "id": "41601c13",
   "metadata": {},
   "outputs": [
    {
     "name": "stderr",
     "output_type": "stream",
     "text": [
      "/home/jalko/.conda/envs/waltti/lib/python3.9/site-packages/tqdm/auto.py:22: TqdmWarning: IProgress not found. Please update jupyter and ipywidgets. See https://ipywidgets.readthedocs.io/en/stable/user_install.html\n",
      "  from .autonotebook import tqdm as notebook_tqdm\n"
     ]
    }
   ],
   "source": [
    "import jax, tqdm\n",
    "import jax.numpy as jnp\n",
    "import numpy as np\n",
    "\n",
    "from jax import grad, jacobian, hessian\n",
    "from jax.nn import softmax, log_softmax\n",
    "\n",
    "from scipy.optimize import minimize\n",
    "\n",
    "from numpyro.optim import Adam, SGD\n",
    "\n",
    "from functools import partial\n",
    "\n",
    "np.random.seed(123)\n",
    "np.set_printoptions(suppress=True)"
   ]
  },
  {
   "cell_type": "markdown",
   "id": "22daf696",
   "metadata": {},
   "source": [
    "We want to minimize the probability of returning a wrong category under the DP guarantee. We do this by learning utility scores for the exponential mechanism. We also want to minimize the probability of releasing categories that are far from the truth. For the latter, we penalise the loss function with an distance penalty.\n",
    "\n",
    "## Setting the data\n",
    "\n",
    "Now replicate the setting described in the [Problem statement](https://github.com/tvv-lippu-ja-maksujarjestelma-oy/waltti-apc-anonymization-plan/blob/main/README.md)"
   ]
  },
  {
   "cell_type": "code",
   "execution_count": 2,
   "id": "3376bf96",
   "metadata": {},
   "outputs": [
    {
     "name": "stdout",
     "output_type": "stream",
     "text": [
      "[5, 40, 50, 65, 72, 78]\n",
      "[ 6. 35. 10. 15.  7.  6.]\n"
     ]
    }
   ],
   "source": [
    "n_seats = 78\n",
    "n_cats = 6\n",
    "cat_edges = [5, 40, 50, 65, 72, 78]\n",
    "print(cat_edges)\n",
    "categories = np.empty((n_seats+1, n_cats))\n",
    "j = 0\n",
    "for i in range(n_seats+1):\n",
    "    if i > cat_edges[j]:\n",
    "        j += 1\n",
    "    categories[i] = np.eye(n_cats)[j]\n",
    "print(np.sum(categories, axis=0))"
   ]
  },
  {
   "cell_type": "code",
   "execution_count": 3,
   "id": "ef825276",
   "metadata": {},
   "outputs": [],
   "source": [
    "# compute distance to the edge per category, how many passengers need to add/remove to fall into the bin\n",
    "category_bins = [[0,5], [6, 40], [41, 50], [51, 65], [66, 72], [73, 78]]\n",
    "distance_matrix = np.zeros((n_seats+1, n_cats))\n",
    "current_cat = 0\n",
    "for i in range(n_seats+1):\n",
    "    if i > cat_edges[current_cat]:\n",
    "        current_cat += 1\n",
    "    for j in range(n_cats):\n",
    "        if j < current_cat:\n",
    "            distance_matrix[i, j] = np.abs(i-category_bins[j][1])\n",
    "        elif j > current_cat:\n",
    "            distance_matrix[i, j] = np.abs(i-category_bins[j][0])\n",
    "        else:\n",
    "            distance_matrix[i, j] = 0"
   ]
  },
  {
   "cell_type": "markdown",
   "id": "dacf6def",
   "metadata": {},
   "source": [
    "## Training with SGD"
   ]
  },
  {
   "cell_type": "code",
   "execution_count": 27,
   "id": "147c4042",
   "metadata": {},
   "outputs": [
    {
     "name": "stderr",
     "output_type": "stream",
     "text": [
      "Loss 46.93: 100%|████████████████████████████████████████████████████████████████████████████████████████████████████████████| 100/100 [09:32<00:00,  5.72s/it]\n"
     ]
    }
   ],
   "source": [
    "from infer import adp_penalty, pure_dp_penalty, l2_penalty, distance_penalty, learn_with_sgd\n",
    "\n",
    "epsilon_target = 0.1\n",
    "delta_target = 1e-6\n",
    "\n",
    "assert epsilon_target > 0 and 0 <= delta_target <= 1, f'Invalid privacy params: eps={epsilon_target}, delta={delta_target}!'\n",
    "\n",
    "# create a prototype penalties to initialize the task\n",
    "distance_penalty_fn = partial(distance_penalty, distances=distance_matrix)\n",
    "if delta_target == 0:\n",
    "    dp_penalty_fn = partial(pure_dp_penalty, eps=epsilon_target)\n",
    "else:\n",
    "    dp_penalty_fn = partial(adp_penalty, eps=epsilon_target, delta_target=delta_target)\n",
    "\n",
    "def create_penalty_fn(l2_weight, dist_weight, dp_weight):\n",
    "    def penalty_fn(qs):\n",
    "        return l2_weight * l2_penalty(qs) + dist_weight * distance_penalty_fn(qs) + dp_weight * dp_penalty_fn(qs)\n",
    "    return penalty_fn\n",
    "\n",
    "\n",
    "# create a prototype penalties to initialize the task\n",
    "# Testing with pure DP\n",
    "#total_penalty = create_penalty_fn(l2_weight=0.001, dist_weight=0.00001, dp_weight=10000.)\n",
    "#total_penalty = create_penalty_fn(l2_weight=0.0, dist_weight=0.0, dp_weight=10000.)\n",
    "#total_penalty = create_penalty_fn(l2_weight=0.0, dist_weight=0.0, dp_weight=100.) # \n",
    "#total_penalty = create_penalty_fn(l2_weight=0.0, dist_weight=0.0, dp_weight=10.) # breaks DP guarantee\n",
    "#total_penalty = create_penalty_fn(l2_weight=0.0, dist_weight=0.0, dp_weight=50.) # best so far, relatively close to the dp_weight=100.\n",
    "\n",
    "# testing with ADP\n",
    "#total_penalty = create_penalty_fn(l2_weight=0.0, dist_weight=0.0, dp_weight=100.) # breaks delta with ~2.6e-7\n",
    "total_penalty = create_penalty_fn(l2_weight=0.0, dist_weight=0.0, dp_weight=1000.)\n",
    "\n",
    "task = learn_with_sgd(categories, total_penalty)\n",
    "\n",
    "n_iters = 100000000\n",
    "learned_logits = task.train(n_iters, init_seed=0, silent=False, optimizer=SGD(1e-6))\n",
    "    "
   ]
  },
  {
   "cell_type": "markdown",
   "id": "492dd928",
   "metadata": {},
   "source": [
    "### Empirical check for DPness\n",
    "\n",
    "Now as we have trained the utility scores, we can varify that the learned solution is DP. \n",
    "For $\\epsilon$-DP, we of course require \n",
    "\\begin{align}\n",
    "    | \\log \\Pr(M(C+1) = i) - \\log \\Pr(M(C) = i) | \\leq \\epsilon,\n",
    "\\end{align}\n",
    "for counts $C$ and $C+1$ produced by neighbouring data sets. We can verify this now simply by comparing the learned log-probabilities between concecutive counts."
   ]
  },
  {
   "cell_type": "code",
   "execution_count": 28,
   "id": "a8cb9fd6",
   "metadata": {},
   "outputs": [],
   "source": [
    "final_ps = jax.nn.softmax(learned_logits.reshape((n_seats+1, -1)))\n",
    "logps = np.log(final_ps)\n",
    "if delta_target == 0:\n",
    "    max_abs_logdiff_for_count = np.max(np.array([np.abs(logps[i] - logps[i+1]) for i in range(0, n_seats)]), axis=1)\n",
    "    print(max_abs_logdiff_for_count)\n",
    "    print(max_abs_logdiff_for_count.max())\n",
    "    print(np.max(max_abs_logdiff_for_count) < epsilon_target)"
   ]
  },
  {
   "cell_type": "code",
   "execution_count": 29,
   "id": "642b084b",
   "metadata": {},
   "outputs": [
    {
     "name": "stdout",
     "output_type": "stream",
     "text": [
      "2807.444\n",
      "0.0028074442\n"
     ]
    }
   ],
   "source": [
    "if delta_target > 0:\n",
    "    print(dp_penalty_fn(learned_logits) / delta_target)\n",
    "    print(dp_penalty_fn(learned_logits))"
   ]
  },
  {
   "cell_type": "code",
   "execution_count": 30,
   "id": "923c214e",
   "metadata": {},
   "outputs": [
    {
     "data": {
      "image/png": "[encoded data removed]",
      "text/plain": [
       "<Figure size 1000x1000 with 2 Axes>"
      ]
     },
     "metadata": {},
     "output_type": "display_data"
    }
   ],
   "source": [
    "import matplotlib.pyplot as plt\n",
    "\n",
    "fig, axis = plt.subplots(figsize=(10,10))\n",
    "\n",
    "im = axis.imshow(final_ps, aspect=n_cats / n_seats, vmin=1e-4, vmax=1., norm='log')\n",
    "for edge in cat_edges[:-1]:\n",
    "    axis.axhline(edge+0.5, color='k', lw=1, ls=\"--\", alpha=0.5)\n",
    "cbar_ax = fig.add_axes([0.9, 0.12, 0.02, 0.76])\n",
    "fig.colorbar(im, cax=cbar_ax)\n",
    "\n",
    "plt.show()"
   ]
  },
  {
   "cell_type": "markdown",
   "id": "85cca9ce",
   "metadata": {},
   "source": [
    "## Comparing against Laplace mechanism"
   ]
  },
  {
   "cell_type": "code",
   "execution_count": 71,
   "id": "1766fa7d",
   "metadata": {},
   "outputs": [],
   "source": [
    "from scipy.stats import laplace, norm\n",
    "\n",
    "def analytical_gaussian(epsilon, sigma):\n",
    "    term1 = norm.cdf(1./(2.*sigma) - epsilon*sigma)\n",
    "    term2 = np.exp(epsilon) * norm.cdf(-1./(2.*sigma) - epsilon*sigma)\n",
    "    return term1 - term2"
   ]
  },
  {
   "cell_type": "code",
   "execution_count": 72,
   "id": "3d3a1b0b",
   "metadata": {},
   "outputs": [],
   "source": [
    "cat_bins = np.array([[-np.inf, 5], [6, 40], [41, 50], [51, 65], [66, 72], [73, np.inf]])\n",
    "    \n",
    "def table_from_laplace(epsilon):\n",
    "    probs = np.zeros((n_seats+1, n_cats))\n",
    "    for i in range(n_seats+1):\n",
    "        true_cat = np.where(categories[i])[0][0]\n",
    "        for j in range(n_cats):\n",
    "            cat_left_edge, cat_right_edge = cat_bins[j]\n",
    "            probs[i, j] = laplace.cdf(cat_right_edge+0.5-i, scale=epsilon) - laplace.cdf(cat_left_edge-0.5-i, scale=epsilon)    \n",
    "    return probs\n",
    "\n",
    "def table_from_gaussian(epsilon, delta):\n",
    "    from scipy.optimize import fsolve\n",
    "    gaussian_sigma = fsolve(lambda x: np.abs(analytical_gaussian(epsilon, x) - delta), x0=1.)\n",
    "\n",
    "    probs = np.zeros((n_seats+1, n_cats))\n",
    "    for i in range(n_seats+1):\n",
    "        true_cat = np.where(categories[i])[0][0]\n",
    "        for j in range(n_cats):\n",
    "            cat_left_edge, cat_right_edge = cat_bins[j]            \n",
    "            probs[i, j] = norm.cdf(cat_right_edge+0.5-i, scale=gaussian_sigma) - norm.cdf(cat_left_edge-0.5-i, scale=gaussian_sigma)\n",
    "    return probs\n",
    "\n",
    "if delta_target > 0.:\n",
    "    comparison_table = table_from_gaussian(epsilon_target, delta_target)\n",
    "else:\n",
    "    comparison_table = table_from_laplace(epsilon_target)"
   ]
  },
  {
   "cell_type": "code",
   "execution_count": 73,
   "id": "96ef58f3",
   "metadata": {},
   "outputs": [
    {
     "data": {
      "text/plain": [
       "0.8410992087241451"
      ]
     },
     "execution_count": 73,
     "metadata": {},
     "output_type": "execute_result"
    }
   ],
   "source": [
    "(comparison_table * categories).sum() / (n_seats + 1)"
   ]
  },
  {
   "cell_type": "code",
   "execution_count": 74,
   "id": "4d1b1566",
   "metadata": {},
   "outputs": [
    {
     "data": {
      "text/plain": [
       "DeviceArray(0.94556594, dtype=float32)"
      ]
     },
     "execution_count": 74,
     "metadata": {},
     "output_type": "execute_result"
    }
   ],
   "source": [
    "(final_ps * categories).sum() / (n_seats + 1)"
   ]
  },
  {
   "cell_type": "code",
   "execution_count": 75,
   "id": "0ce166d1",
   "metadata": {},
   "outputs": [
    {
     "data": {
      "text/plain": [
       "DeviceArray([0.        , 0.        , 0.        , 0.00000165, 0.00191615,\n",
       "             0.99808216], dtype=float32)"
      ]
     },
     "execution_count": 75,
     "metadata": {},
     "output_type": "execute_result"
    }
   ],
   "source": [
    "final_ps[78]"
   ]
  },
  {
   "cell_type": "code",
   "execution_count": 76,
   "id": "3ca9acc6",
   "metadata": {},
   "outputs": [
    {
     "data": {
      "text/plain": [
       "array([0.        , 0.        , 0.        , 0.00004359, 0.04208844,\n",
       "       0.95786797])"
      ]
     },
     "execution_count": 76,
     "metadata": {},
     "output_type": "execute_result"
    }
   ],
   "source": [
    "comparison_table[78]"
   ]
  },
  {
   "cell_type": "code",
   "execution_count": 78,
   "id": "3af4f012",
   "metadata": {},
   "outputs": [],
   "source": [
    "gaussian_sigma = fsolve(lambda x: np.abs(analytical_gaussian(epsilon_target, x) - delta_target), x0=1.)"
   ]
  },
  {
   "cell_type": "code",
   "execution_count": 79,
   "id": "e42202ea",
   "metadata": {},
   "outputs": [
    {
     "data": {
      "text/plain": [
       "array([3.18570299])"
      ]
     },
     "execution_count": 79,
     "metadata": {},
     "output_type": "execute_result"
    }
   ],
   "source": [
    "gaussian_sigma"
   ]
  },
  {
   "cell_type": "code",
   "execution_count": 80,
   "id": "90418748",
   "metadata": {},
   "outputs": [
    {
     "data": {
      "text/plain": [
       "array([0.43764164])"
      ]
     },
     "execution_count": 80,
     "metadata": {},
     "output_type": "execute_result"
    }
   ],
   "source": [
    "norm.cdf(-0.5, scale=gaussian_sigma)"
   ]
  },
  {
   "cell_type": "code",
   "execution_count": 82,
   "id": "44ece158",
   "metadata": {},
   "outputs": [
    {
     "data": {
      "text/plain": [
       "0.3032653298563167"
      ]
     },
     "execution_count": 82,
     "metadata": {},
     "output_type": "execute_result"
    }
   ],
   "source": [
    "laplace.cdf(-0.5, scale=epsilon_target)"
   ]
  },
  {
   "cell_type": "code",
   "execution_count": 84,
   "id": "ed388c24",
   "metadata": {},
   "outputs": [
    {
     "data": {
      "text/plain": [
       "4.34361230389877"
      ]
     },
     "execution_count": 84,
     "metadata": {},
     "output_type": "execute_result"
    }
   ],
   "source": [
    "np.sqrt(2 * np.log(1.25/delta_target)) / epsilon_target"
   ]
  },
  {
   "cell_type": "code",
   "execution_count": null,
   "id": "dc03dd3c",
   "metadata": {},
   "outputs": [],
   "source": [
    " "
   ]
  }
 ],
 "metadata": {
  "kernelspec": {
   "display_name": "Python 3 (ipykernel)",
   "language": "python",
   "name": "python3"
  },
  "language_info": {
   "codemirror_mode": {
    "name": "ipython",
    "version": 3
   },
   "file_extension": ".py",
   "mimetype": "text/x-python",
   "name": "python",
   "nbconvert_exporter": "python",
   "pygments_lexer": "ipython3",
   "version": "3.9.13"
  }
 },
 "nbformat": 4,
 "nbformat_minor": 5
}
