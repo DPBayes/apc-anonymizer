{
 "cells": [
  {
   "cell_type": "code",
   "execution_count": 1,
   "id": "3652acce-a577-4e6c-8a00-761968ac98c8",
   "metadata": {},
   "outputs": [
    {
     "name": "stderr",
     "output_type": "stream",
     "text": [
      "/home/jalko/.conda/envs/waltti/lib/python3.9/site-packages/tqdm/auto.py:22: TqdmWarning: IProgress not found. Please update jupyter and ipywidgets. See https://ipywidgets.readthedocs.io/en/stable/user_install.html\n",
      "  from .autonotebook import tqdm as notebook_tqdm\n"
     ]
    }
   ],
   "source": [
    "import jax, tqdm\n",
    "import jax.numpy as jnp\n",
    "import numpy as np\n",
    "\n",
    "from jax import grad, value_and_grad\n",
    "from jax.nn import softmax, log_softmax\n",
    "\n",
    "from numpyro.optim import Adam\n",
    "\n",
    "from functools import partial\n",
    "\n",
    "np.random.seed(123)\n",
    "np.set_printoptions(suppress=True)"
   ]
  },
  {
   "cell_type": "markdown",
   "id": "19ebbe58-ac5f-4202-a7cb-5cccaf5a846e",
   "metadata": {},
   "source": [
    "We want to minimize the probability of returning a wrong category under the DP guarantee. We do this by learning utility scores for the exponential mechanism. We also want to minimize the probability of releasing categories that are far from the truth. For the latter, we penalise the loss function with an distance penalty."
   ]
  },
  {
   "cell_type": "code",
   "execution_count": 2,
   "id": "a4a9c89c-36e2-45cb-9bb4-2d4d8583c64c",
   "metadata": {},
   "outputs": [],
   "source": [
    "lamb = 0.001 # weight for l2 penalty\n",
    "bandwidth = 0.1 # kernel bandwidth\n",
    "\n",
    "\n",
    "def get_logps(qs, eps):\n",
    "    n = len(qs)\n",
    "    sensitivity = jnp.max(jnp.abs(qs[:(n-1)]-qs[1:]))\n",
    "\n",
    "    log_ps = log_softmax(eps / (2.*sensitivity) * qs, axis=1)\n",
    "    return log_ps\n",
    "\n",
    "#cat_edges = [5, 40, 50, 65, 72, 78] # NOTE\n",
    "def loss(qs, categories, eps):\n",
    "    n_cats = categories.shape[1]\n",
    "    distances = np.abs(np.arange(0,n_cats).reshape(-1, 1) - np.arange(0,n_cats).reshape(1, -1))\n",
    "    kernel = np.exp(-distances / bandwidth)\n",
    "    logps = get_logps(qs, eps)\n",
    "    \n",
    "    bce = -1. * jnp.sum(logps * categories) # we want to maximize prob. of releasing the correct label\n",
    "    distance_penalty = 0.5 * jnp.sum(logps *  (categories @ kernel)) # we want to minimize prob. of releasing 'far away' categories\n",
    "    l2_penalty = lamb * jnp.linalg.norm(qs) # we want to keep the utility scores reasonable to avoid numerical issues\n",
    "    return bce + distance_penalty + l2_penalty"
   ]
  },
  {
   "cell_type": "markdown",
   "id": "14183b6b-f0f7-42a8-bf37-8e79c0f4dae3",
   "metadata": {},
   "source": [
    "## Setting the data"
   ]
  },
  {
   "cell_type": "markdown",
   "id": "cedac0b1-da07-4347-b7a9-2ba03be69f52",
   "metadata": {},
   "source": [
    "Now replicate the setting described in the [Problem statement](https://github.com/tvv-lippu-ja-maksujarjestelma-oy/waltti-apc-anonymization-plan/blob/main/README.md)"
   ]
  },
  {
   "cell_type": "code",
   "execution_count": 3,
   "id": "b7491854-d683-4b8d-8ff3-4dc135096c9c",
   "metadata": {},
   "outputs": [
    {
     "name": "stdout",
     "output_type": "stream",
     "text": [
      "[5, 40, 50, 65, 72, 78]\n",
      "[ 6. 35. 10. 15.  7.  6.]\n"
     ]
    }
   ],
   "source": [
    "n_seats = 78\n",
    "# n_cats = 5\n",
    "# cat_edges = [(i+1) * int(n_seats // n_cats) for i in range(n_cats)]\n",
    "# cat_edges[-1] = n_seats\n",
    "n_cats = 6\n",
    "cat_edges = [5, 40, 50, 65, 72, 78]\n",
    "print(cat_edges)\n",
    "categories = np.empty((n_seats+1, n_cats))\n",
    "j = 0\n",
    "for i in range(n_seats+1):\n",
    "    if i > cat_edges[j]:\n",
    "        j += 1\n",
    "    categories[i] = np.eye(n_cats)[j]\n",
    "print(np.sum(categories, axis=0))"
   ]
  },
  {
   "cell_type": "markdown",
   "id": "54a72765-db7f-4554-bd67-20c4b99438b9",
   "metadata": {},
   "source": [
    "## Training"
   ]
  },
  {
   "cell_type": "markdown",
   "id": "f18e6c51-ab33-4082-a203-212e3f4829da",
   "metadata": {},
   "source": [
    "Now, lets train the model"
   ]
  },
  {
   "cell_type": "code",
   "execution_count": 4,
   "id": "89aa9f58-6590-4c86-be4e-8de2c21e0a64",
   "metadata": {},
   "outputs": [
    {
     "name": "stdout",
     "output_type": "stream",
     "text": [
      "Initial loss: 70.8302230834961\n"
     ]
    },
    {
     "name": "stderr",
     "output_type": "stream",
     "text": [
      "Loss 33.98: 100%|████████████████████████████████████████████████████████████████████████████████████████████████████████████| 100/100 [00:08<00:00, 12.04it/s]\n"
     ]
    }
   ],
   "source": [
    "eps = .1\n",
    "init_qs = jnp.array(np.random.randn(n_seats+1, n_cats) * 0.1)\n",
    "\n",
    "learning_rate = 1e-3\n",
    "optimizer = Adam(learning_rate)\n",
    "\n",
    "def update_epoch(i, params):\n",
    "    optim_state, last_chunk_loss = params\n",
    "    qs = optimizer.get_params(optim_state)\n",
    "    loss_at_iter, grads = value_and_grad(partial(loss, categories=categories, eps=eps))(qs) \n",
    "    optim_state = optimizer.update(grads, optim_state)\n",
    "    return optim_state, loss_at_iter\n",
    "\n",
    "from jax.lax import fori_loop\n",
    "\n",
    "T = 1000000\n",
    "epoch_len = 10000 # this is essentially a chunk size. We split the learning into chucks to get some progress prints\n",
    "optim_state = optimizer.init(init_qs)\n",
    "\n",
    "print(f\"Initial loss: {loss(optimizer.get_params(optim_state), categories, 1.0)}\")\n",
    "\n",
    "progresss_bar = tqdm.tqdm(range(T // epoch_len))\n",
    "\n",
    "for epoch_nr in progresss_bar:\n",
    "    optim_state_new, loss_at_iter = fori_loop(0, epoch_len, update_epoch, (optim_state, 0.0))\n",
    "    progresss_bar.set_description(f\"Loss {loss_at_iter.item():.2f}\")\n",
    "    if jnp.isnan(loss_at_iter):\n",
    "        print(\"Nans!!!!!\")\n",
    "        break\n",
    "    optim_state = optim_state_new\n",
    "    \n",
    "qs = optimizer.get_params(optim_state)\n",
    "ps = jnp.exp(get_logps(qs, eps))"
   ]
  },
  {
   "cell_type": "markdown",
   "id": "2bd33865-7358-4447-ab3d-a880daa3d3e6",
   "metadata": {},
   "source": [
    "## Results"
   ]
  },
  {
   "cell_type": "markdown",
   "id": "b7984455-bffc-4f9d-8546-49a91a821ff3",
   "metadata": {},
   "source": [
    "Next, lets illustrate what the learned probabilities look like. We will do show, by plotting the probs in a heatmap, where the rows correspond to the headcounts and columns to the categories"
   ]
  },
  {
   "cell_type": "code",
   "execution_count": 5,
   "id": "49fba591-fdfe-46be-a225-39c850d73f47",
   "metadata": {},
   "outputs": [
    {
     "data": {
      "image/png": "[encoded data removed]",
      "text/plain": [
       "<Figure size 1000x1000 with 2 Axes>"
      ]
     },
     "metadata": {},
     "output_type": "display_data"
    }
   ],
   "source": [
    "import matplotlib.pyplot as plt\n",
    "\n",
    "plt.close()\n",
    "\n",
    "fig, axis = plt.subplots(figsize=(10,10))\n",
    "\n",
    "#im = axis.imshow(ps, aspect=n_cats / n_seats)\n",
    "im = axis.imshow(ps, aspect=n_cats / n_seats, vmin=1e-4, vmax=1., norm='log')\n",
    "for edge in cat_edges[:-1]:\n",
    "    axis.axhline(edge+0.5, color='k', lw=1, ls=\"--\", alpha=0.5)\n",
    "cbar_ax = fig.add_axes([0.9, 0.12, 0.02, 0.76])\n",
    "fig.colorbar(im, cax=cbar_ax)\n",
    "fig.savefig(\"probs_matrix_em.pdf\", format=\"pdf\", bbox_inches=\"tight\")\n",
    "plt.show()"
   ]
  },
  {
   "cell_type": "code",
   "execution_count": 6,
   "id": "4b7af41b",
   "metadata": {},
   "outputs": [
    {
     "data": {
      "text/plain": [
       "DeviceArray([0.01452   , 0.08845571, 0.09525441, 0.25768292, 0.27646893,\n",
       "             0.26761806], dtype=float32)"
      ]
     },
     "execution_count": 6,
     "metadata": {},
     "output_type": "execute_result"
    }
   ],
   "source": [
    "ps[72]"
   ]
  },
  {
   "cell_type": "markdown",
   "id": "8f361ae8",
   "metadata": {},
   "source": [
    "### Empirical check for DPness\n",
    "\n",
    "Now as we have trained the utility scores, we can varify that the learned solution is DP. \n",
    "For $\\epsilon$-DP, we of course require \n",
    "\\begin{align}\n",
    "    | \\log \\Pr(M(C+1) = i) - \\log \\Pr(M(C) = i) | \\leq \\epsilon,\n",
    "\\end{align}\n",
    "for counts $C$ and $C+1$ produced by neighbouring data sets. We can verify this now simply by comparing the learned log-probabilities between concecutive counts."
   ]
  },
  {
   "cell_type": "code",
   "execution_count": 7,
   "id": "6f69cc26-b10f-4bde-9665-cbc6f42f1ed0",
   "metadata": {},
   "outputs": [
    {
     "name": "stdout",
     "output_type": "stream",
     "text": [
      "[0.0536167  0.05990911 0.06123805 0.06229234 0.06323862 0.06814301\n",
      " 0.06620884 0.07315612 0.07295191 0.07356679 0.07529306 0.07621193\n",
      " 0.07825935 0.07973576 0.08048689 0.08200431 0.07677078 0.08394885\n",
      " 0.08458352 0.04770589 0.07472849 0.0747273  0.07681394 0.07657313\n",
      " 0.07466245 0.07137513 0.07028437 0.06852627 0.0674572  0.06399822\n",
      " 0.06162012 0.06198394 0.05851102 0.05598199 0.05377829 0.05256295\n",
      " 0.05000663 0.04738379 0.05012041 0.05294192 0.05581069 0.05761123\n",
      " 0.05874896 0.06202531 0.06445193 0.04822516 0.05690837 0.05527949\n",
      " 0.05211902 0.05048919 0.04883599 0.05030334 0.05255723 0.05543423\n",
      " 0.05628276 0.05895305 0.06051779 0.06138349 0.06443727 0.06697893\n",
      " 0.06483507 0.06243658 0.06192505 0.05970657 0.05768716 0.05553567\n",
      " 0.0538373  0.05171037 0.04945171 0.04780746 0.07136607 0.06773555\n",
      " 0.06746566 0.06732905 0.06431043 0.06130278 0.05748308 0.05339992]\n",
      "0.08458352\n",
      "True\n"
     ]
    }
   ],
   "source": [
    "logps = get_logps(qs, eps)\n",
    "max_abs_logdiff_for_count = np.max(np.array([np.abs(logps[i] - logps[i+1]) for i in range(0, n_seats)]), axis=1)\n",
    "print(max_abs_logdiff_for_count)\n",
    "print(max_abs_logdiff_for_count.max())\n",
    "print(np.max(max_abs_logdiff_for_count) < eps)"
   ]
  },
  {
   "cell_type": "code",
   "execution_count": 8,
   "id": "72deea1f",
   "metadata": {},
   "outputs": [
    {
     "name": "stdout",
     "output_type": "stream",
     "text": [
      "0.062769726\n"
     ]
    }
   ],
   "source": [
    "print(max_abs_logdiff_for_count.mean())"
   ]
  },
  {
   "cell_type": "code",
   "execution_count": 8,
   "id": "daf26b85",
   "metadata": {},
   "outputs": [
    {
     "data": {
      "text/plain": [
       "0.23737789690494537"
      ]
     },
     "execution_count": 8,
     "metadata": {},
     "output_type": "execute_result"
    }
   ],
   "source": [
    "(np.exp(logps) * categories).sum(1).min()"
   ]
  },
  {
   "cell_type": "markdown",
   "id": "777e529f-ab58-434d-974e-90dce997b6f4",
   "metadata": {},
   "source": [
    "## Permute and flip"
   ]
  },
  {
   "cell_type": "code",
   "execution_count": 9,
   "id": "65b50bd3-4e44-4c1f-a455-3203758b6606",
   "metadata": {},
   "outputs": [],
   "source": [
    "sensitivity = jnp.max(jnp.abs(qs[:((n_seats+1)-1)]-qs[1:]))\n",
    "\n",
    "def permute_and_flip(q, eps):\n",
    "    q_star = np.max(q)\n",
    "    rs = np.random.permutation(np.arange(len(q)))\n",
    "    for r in rs:\n",
    "        pr = np.exp(eps / (2 * sensitivity)*(q[r] - q_star))\n",
    "        if np.random.rand()<pr:\n",
    "            return r    "
   ]
  },
  {
   "cell_type": "markdown",
   "id": "19fe680b",
   "metadata": {},
   "source": [
    "### Test at the edge\n",
    "\n",
    "Lets compare the permute and flip and EM for reporting the count $6$, which is on the edge of two bins."
   ]
  },
  {
   "cell_type": "code",
   "execution_count": 10,
   "id": "9741f51d-1714-4824-9058-f38326d57589",
   "metadata": {},
   "outputs": [],
   "source": [
    "indx = 5"
   ]
  },
  {
   "cell_type": "code",
   "execution_count": 11,
   "id": "4acc247f-f527-406a-80bd-f885dd4a0d23",
   "metadata": {},
   "outputs": [],
   "source": [
    "releases_pf_for_indx = np.array([permute_and_flip(qs[indx], eps) for i in range(10000)])"
   ]
  },
  {
   "cell_type": "code",
   "execution_count": 12,
   "id": "615efd58-53ee-499f-b4d1-fe063000ec7c",
   "metadata": {},
   "outputs": [
    {
     "name": "stdout",
     "output_type": "stream",
     "text": [
      "0 0.2474\n",
      "1 0.6705\n",
      "2 0.0326\n",
      "3 0.0272\n",
      "4 0.0126\n",
      "5 0.0097\n"
     ]
    }
   ],
   "source": [
    "cats, counts_pf = np.unique(releases_pf_for_indx, return_counts=True)\n",
    "freqs_pf = counts_pf / counts_pf.sum()\n",
    "for cat, freq in zip(cats, freqs_pf):\n",
    "    print(cat, freq)"
   ]
  },
  {
   "cell_type": "code",
   "execution_count": 13,
   "id": "39929a35-bdab-444b-bfeb-468f714a808c",
   "metadata": {},
   "outputs": [
    {
     "name": "stdout",
     "output_type": "stream",
     "text": [
      "0 0.30119655\n",
      "1 0.57048196\n",
      "2 0.054689053\n",
      "3 0.0409938\n",
      "4 0.017476287\n",
      "5 0.015162427\n"
     ]
    }
   ],
   "source": [
    "probs_em_for_indx = np.exp(get_logps(qs, eps)[indx])\n",
    "for cat, freq in zip(np.arange(probs_em_for_indx.shape[0]), probs_em_for_indx):\n",
    "    print(cat, freq)"
   ]
  },
  {
   "cell_type": "code",
   "execution_count": null,
   "id": "64e70d8e",
   "metadata": {},
   "outputs": [],
   "source": []
  }
 ],
 "metadata": {
  "kernelspec": {
   "display_name": "Python 3 (ipykernel)",
   "language": "python",
   "name": "python3"
  },
  "language_info": {
   "codemirror_mode": {
    "name": "ipython",
    "version": 3
   },
   "file_extension": ".py",
   "mimetype": "text/x-python",
   "name": "python",
   "nbconvert_exporter": "python",
   "pygments_lexer": "ipython3",
   "version": "3.9.13"
  }
 },
 "nbformat": 4,
 "nbformat_minor": 5
}
