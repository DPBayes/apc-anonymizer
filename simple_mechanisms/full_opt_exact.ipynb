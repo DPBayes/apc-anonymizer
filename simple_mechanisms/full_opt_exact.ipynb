{
 "cells": [
  {
   "cell_type": "code",
   "execution_count": 1,
   "id": "41601c13",
   "metadata": {},
   "outputs": [
    {
     "name": "stderr",
     "output_type": "stream",
     "text": [
      "/home/jalko/.conda/envs/waltti/lib/python3.9/site-packages/tqdm/auto.py:22: TqdmWarning: IProgress not found. Please update jupyter and ipywidgets. See https://ipywidgets.readthedocs.io/en/stable/user_install.html\n",
      "  from .autonotebook import tqdm as notebook_tqdm\n"
     ]
    }
   ],
   "source": [
    "import jax, tqdm\n",
    "import jax.numpy as jnp\n",
    "import numpy as np\n",
    "\n",
    "from jax import grad, jacobian, hessian\n",
    "from jax.nn import softmax, log_softmax\n",
    "\n",
    "from scipy.optimize import minimize\n",
    "\n",
    "from numpyro.optim import Adam\n",
    "\n",
    "from functools import partial\n",
    "\n",
    "np.random.seed(123)\n",
    "np.set_printoptions(suppress=True)"
   ]
  },
  {
   "cell_type": "markdown",
   "id": "22daf696",
   "metadata": {},
   "source": [
    "We want to minimize the probability of returning a wrong category under the DP guarantee. We do this by learning utility scores for the exponential mechanism. We also want to minimize the probability of releasing categories that are far from the truth. For the latter, we penalise the loss function with an distance penalty.\n",
    "\n",
    "## Setting the data\n",
    "\n",
    "Now replicate the setting described in the [Problem statement](https://github.com/tvv-lippu-ja-maksujarjestelma-oy/waltti-apc-anonymization-plan/blob/main/README.md)"
   ]
  },
  {
   "cell_type": "code",
   "execution_count": 2,
   "id": "3376bf96",
   "metadata": {},
   "outputs": [
    {
     "name": "stdout",
     "output_type": "stream",
     "text": [
      "[5, 40, 50, 65, 72, 78]\n",
      "[ 6. 35. 10. 15.  7.  6.]\n"
     ]
    }
   ],
   "source": [
    "n_seats = 78\n",
    "# n_cats = 5\n",
    "# cat_edges = [(i+1) * int(n_seats // n_cats) for i in range(n_cats)]\n",
    "# cat_edges[-1] = n_seats\n",
    "n_cats = 6\n",
    "cat_edges = [5, 40, 50, 65, 72, 78]\n",
    "print(cat_edges)\n",
    "categories = np.empty((n_seats+1, n_cats))\n",
    "j = 0\n",
    "for i in range(n_seats+1):\n",
    "    if i > cat_edges[j]:\n",
    "        j += 1\n",
    "    categories[i] = np.eye(n_cats)[j]\n",
    "print(np.sum(categories, axis=0))"
   ]
  },
  {
   "cell_type": "markdown",
   "id": "dacf6def",
   "metadata": {},
   "source": [
    "## Pre-training with SGD"
   ]
  },
  {
   "cell_type": "code",
   "execution_count": 3,
   "id": "147c4042",
   "metadata": {},
   "outputs": [
    {
     "name": "stderr",
     "output_type": "stream",
     "text": [
      "Loss 23.32: 100%|████████████████████████████████████████████| 100/100 [00:06<00:00, 14.74it/s]\n"
     ]
    }
   ],
   "source": [
    "eps = .1\n",
    "\n",
    "nu = 10.\n",
    "lamb = 0.001 # weight for l2 penalty\n",
    "bandwidth = 0.1 # kernel bandwidth\n",
    "\n",
    "distances = np.abs(np.arange(0,n_cats).reshape(-1, 1) - np.arange(0,n_cats).reshape(1, -1))\n",
    "kernel = np.exp(-distances / bandwidth)\n",
    "\n",
    "## Init with SGD\n",
    "from jax import value_and_grad\n",
    "def loss(qs):\n",
    "    logits = qs.reshape(n_seats+1, -1)\n",
    "    log_probs = jax.nn.log_softmax(logits, axis=1)\n",
    "    \n",
    "    n_cats = categories.shape[1]\n",
    "    \n",
    "    bce = np.sum(log_probs * categories)\n",
    "    distance_penalty = 0.5 * jnp.sum(log_probs *  (categories @ kernel)) # we want to minimize prob. of releasing 'far away' categories\n",
    "    l2_penalty = lamb * jnp.linalg.norm(qs) # penalty for large qs\n",
    "\n",
    "    # the dp penalty\n",
    "    ll_ratio = jnp.abs(log_probs[:-1] - log_probs[1:])\n",
    "    dp_penalty = nu * jax.nn.relu(ll_ratio - (eps-1e-5)).sum()\n",
    "\n",
    "    return -1.*bce + dp_penalty + distance_penalty + l2_penalty\n",
    "\n",
    "    # compute the log likelihood ratio\n",
    "learning_rate = 1e-3\n",
    "optimizer = Adam(learning_rate)\n",
    "\n",
    "def update_epoch(i, params):\n",
    "    optim_state, last_chunk_loss = params\n",
    "    qs = optimizer.get_params(optim_state)\n",
    "    loss_at_iter, grads = value_and_grad(partial(loss))(qs) \n",
    "    optim_state = optimizer.update(grads, optim_state)\n",
    "    return optim_state, loss_at_iter\n",
    "\n",
    "from jax.lax import fori_loop\n",
    "\n",
    "T = 1000000\n",
    "epoch_len = 10000 # this is essentially a chunk size. We split the learning into chucks to get some progress prints\n",
    "\n",
    "qs0 = jax.random.normal(\n",
    "                        jax.random.PRNGKey(0), \n",
    "                        shape=(int((n_seats + 1) * n_cats),)\n",
    "                    )\n",
    "optim_state = optimizer.init(qs0)\n",
    "\n",
    "progresss_bar = tqdm.tqdm(range(T // epoch_len))\n",
    "\n",
    "for epoch_nr in progresss_bar:\n",
    "    optim_state_new, loss_at_iter = fori_loop(0, epoch_len, update_epoch, (optim_state, 0.0))\n",
    "    progresss_bar.set_description(f\"Loss {loss_at_iter.item():.2f}\")\n",
    "    if jnp.isnan(loss_at_iter):\n",
    "        print(\"Nans!!!!!\")\n",
    "        break\n",
    "    optim_state = optim_state_new\n",
    "    "
   ]
  },
  {
   "cell_type": "markdown",
   "id": "c4c4b509",
   "metadata": {},
   "source": [
    "## Fine tuning with constrained optimization\n",
    "\n",
    "While we have the DP-penalty in the earlier loss funtion, it is still possible that the learned probabilities slighty violate the constraint. Thus we will now use constrained optimization tools to learn an exact solution for out task. We start by forcing the SGD learned solution to guarantee DP using the below `force_dp` function."
   ]
  },
  {
   "cell_type": "code",
   "execution_count": 4,
   "id": "ed525762",
   "metadata": {},
   "outputs": [
    {
     "name": "stdout",
     "output_type": "stream",
     "text": [
      "True\n"
     ]
    }
   ],
   "source": [
    "def force_dp(qs):\n",
    "    logits = qs.reshape(n_seats+1, -1)\n",
    "    new_logits = np.zeros(logits.shape)\n",
    "    logit_last = logits[0]\n",
    "    new_logits[0] = logit_last\n",
    "    for c in range(1, n_seats+1):\n",
    "        new_logits[c] = logits[c]\n",
    "        ll_ratio = jax.nn.log_softmax(new_logits[c]) - jax.nn.log_softmax(logit_last)\n",
    "        while jnp.abs(ll_ratio).max()>eps:\n",
    "            new_logits[c] = jnp.where(ll_ratio < -eps, new_logits[c]+1e-3, new_logits[c])\n",
    "            new_logits[c] = jnp.where(ll_ratio > eps, new_logits[c]-1e-3, new_logits[c])\n",
    "            ll_ratio = jax.nn.log_softmax(new_logits[c]) - jax.nn.log_softmax(logit_last)\n",
    "        logit_last = new_logits[c]\n",
    "    return new_logits.flatten()\n",
    "\n",
    "qs_from_sgd = optimizer.get_params(optim_state)\n",
    "qs_init_for_exact = force_dp(qs_from_sgd)\n",
    "\n",
    "def dp_cons_f(qs):\n",
    "    logits = qs.reshape(n_seats+1, -1)\n",
    "    log_probs = jax.nn.log_softmax(logits, axis=1)\n",
    "    return eps - jnp.abs(log_probs[1:] - log_probs[:-1]).max(1)\n",
    "\n",
    "print(np.all(dp_cons_f(qs_init_for_exact)>0.))"
   ]
  },
  {
   "cell_type": "markdown",
   "id": "49b0df33",
   "metadata": {},
   "source": [
    "### trust-constr\n",
    "Next, we will use `trust-constr` method with `scipy.minimize` to learn the optimal solution under the DP constraint."
   ]
  },
  {
   "cell_type": "code",
   "execution_count": 5,
   "id": "05fcc652",
   "metadata": {},
   "outputs": [
    {
     "name": "stdout",
     "output_type": "stream",
     "text": [
      "Running trust-constr\n",
      "`xtol` termination condition is satisfied.\n",
      "Number of iterations: 269, function evaluations: 269, CG iterations: 257, optimality: 2.97e-01, constraint violation: 3.50e+00, execution time: 1.2e+02 s.\n"
     ]
    }
   ],
   "source": [
    "# define the loss without DP penalty\n",
    "def loss_fn(qs):\n",
    "    logits = qs.reshape(n_seats+1, -1)\n",
    "    log_probs = jax.nn.log_softmax(logits, axis=1)\n",
    "    \n",
    "    n_cats = categories.shape[1]\n",
    "    \n",
    "    bce = np.sum(log_probs * categories)\n",
    "    distance_penalty = 0.5 * jnp.sum(log_probs *  (categories @ kernel)) # we want to minimize prob. of releasing 'far away' categories\n",
    "    l2_penalty = lamb * jnp.linalg.norm(qs) # penalty for large qs\n",
    "\n",
    "    return -1.*bce + distance_penalty + l2_penalty\n",
    "\n",
    "\n",
    "loss_hess_p = lambda x, v: hessian(loss_fn)(x) @ v\n",
    "\n",
    "dp_cons_J = jacobian(dp_cons_f)\n",
    "dp_cons_H = lambda x, v: jnp.sum(v.reshape(-1, 1, 1) * hessian(dp_cons_f)(x), axis=0)\n",
    "\n",
    "from scipy.optimize import NonlinearConstraint, Bounds\n",
    "nonlinear_constraint = NonlinearConstraint(dp_cons_f, 0., eps, jac=dp_cons_J, hess=dp_cons_H, keep_feasible=True)\n",
    "bounds = Bounds(-3.*np.ones(qs0.shape), 3*np.ones(qs0.shape))\n",
    "\n",
    "# initialize q to the SGD learned solution and force it to satisfy DP\n",
    "print(\"Running trust-constr\")\n",
    "res = minimize(loss_fn, qs_init_for_exact, method='trust-constr', jac=jacobian(loss_fn),\n",
    "               hessp=loss_hess_p, constraints=[nonlinear_constraint],\n",
    "               options={'verbose': True, 'maxiter': 1000, 'xtol': 1e-10},\n",
    "              bounds=bounds)\n",
    "\n",
    "final_ps = softmax(res.x.reshape(n_seats+1,-1), axis=1)"
   ]
  },
  {
   "cell_type": "markdown",
   "id": "61977bea",
   "metadata": {},
   "source": [
    "## Results\n",
    "\n",
    "Next, lets illustrate what the learned probabilities look like. We will do show, by plotting the probs in a heatmap, where the rows correspond to the headcounts and columns to the categories"
   ]
  },
  {
   "cell_type": "code",
   "execution_count": 6,
   "id": "0e6a7a18",
   "metadata": {},
   "outputs": [
    {
     "data": {
      "image/png": "[encoded data removed]",
      "text/plain": [
       "<Figure size 1000x1000 with 2 Axes>"
      ]
     },
     "metadata": {},
     "output_type": "display_data"
    }
   ],
   "source": [
    "import matplotlib.pyplot as plt\n",
    "\n",
    "plt.close()\n",
    "\n",
    "fig, axis = plt.subplots(figsize=(10,10))\n",
    "\n",
    "im = axis.imshow(final_ps, aspect=n_cats / n_seats, vmin=1e-4, vmax=1., norm='log')\n",
    "for edge in cat_edges[:-1]:\n",
    "    axis.axhline(edge+0.5, color='k', lw=1, ls=\"--\", alpha=0.5)\n",
    "cbar_ax = fig.add_axes([0.9, 0.12, 0.02, 0.76])\n",
    "fig.colorbar(im, cax=cbar_ax)\n",
    "fig.savefig(\"probs_matrix_opt_trust_constr.pdf\", format=\"pdf\", bbox_inches=\"tight\")\n",
    "plt.show()"
   ]
  },
  {
   "cell_type": "markdown",
   "id": "492dd928",
   "metadata": {},
   "source": [
    "### Empirical check for DPness\n",
    "\n",
    "Now as we have trained the utility scores, we can varify that the learned solution is DP. \n",
    "For $\\epsilon$-DP, we of course require \n",
    "\\begin{align}\n",
    "    | \\log \\Pr(M(C+1) = i) - \\log \\Pr(M(C) = i) | \\leq \\epsilon,\n",
    "\\end{align}\n",
    "for counts $C$ and $C+1$ produced by neighbouring data sets. We can verify this now simply by comparing the learned log-probabilities between concecutive counts."
   ]
  },
  {
   "cell_type": "code",
   "execution_count": 7,
   "id": "a8cb9fd6",
   "metadata": {},
   "outputs": [
    {
     "name": "stdout",
     "output_type": "stream",
     "text": [
      "[0.09549075 0.09950787 0.09915274 0.0986312  0.09957671 0.09961247\n",
      " 0.09974015 0.09987891 0.09939277 0.09976768 0.09956539 0.09990835\n",
      " 0.09967184 0.09971285 0.09995651 0.09643722 0.09986305 0.09983063\n",
      " 0.09887838 0.09898424 0.09995818 0.09966254 0.09905386 0.09874177\n",
      " 0.09933901 0.09709501 0.09944725 0.09858322 0.09884405 0.09894991\n",
      " 0.09835672 0.09975648 0.09888554 0.09904122 0.0998919  0.09925508\n",
      " 0.09945965 0.09963286 0.09924519 0.0999999  0.09964406 0.09951234\n",
      " 0.09965026 0.0995537  0.09941828 0.09977329 0.09969532 0.09950876\n",
      " 0.09942424 0.09985816 0.09990191 0.09996903 0.09975374 0.09996891\n",
      " 0.09999275 0.09944248 0.0994575  0.09963775 0.09976721 0.09994006\n",
      " 0.09995437 0.09995854 0.09977913 0.09986186 0.09964335 0.09970558\n",
      " 0.09965003 0.09954584 0.09937739 0.09991086 0.09953821 0.09975684\n",
      " 0.09986973 0.09952545 0.09961188 0.09956276 0.09938717 0.09909618]\n",
      "0.099999905\n",
      "True\n"
     ]
    }
   ],
   "source": [
    "logps = np.log(final_ps)\n",
    "max_abs_logdiff_for_count = np.max(np.array([np.abs(logps[i] - logps[i+1]) for i in range(0, n_seats)]), axis=1)\n",
    "print(max_abs_logdiff_for_count)\n",
    "print(max_abs_logdiff_for_count.max())\n",
    "print(np.max(max_abs_logdiff_for_count) < eps)"
   ]
  },
  {
   "cell_type": "markdown",
   "id": "3b6ffb03",
   "metadata": {},
   "source": [
    "## Comparing the exact solution with the SGD learned one\n",
    "\n",
    "Now lets compare three different solutions for out task: (1) the one learned using just SGD, (2) the SGD solution forced to satisfy DP and (3) the exact solution."
   ]
  },
  {
   "cell_type": "markdown",
   "id": "0fd76184",
   "metadata": {},
   "source": [
    "### (1) Solution for SGD (might violate the DP constraint)"
   ]
  },
  {
   "cell_type": "code",
   "execution_count": 8,
   "id": "ed79f7fa",
   "metadata": {},
   "outputs": [
    {
     "name": "stdout",
     "output_type": "stream",
     "text": [
      "Average ll: -0.09810716658830643\n",
      "Max ll ratios per count (DP constraint):\n",
      " [0.09549034 0.09950727 0.09915215 0.09863055 0.10017389 0.09964985\n",
      " 0.09910405 0.09987843 0.09939241 0.09976697 0.10034359 0.09912908\n",
      " 0.09967136 0.09971213 0.09995675 0.09643674 0.09986496 0.09982252\n",
      " 0.09887815 0.09898376 0.0999577  0.09966683 0.09904957 0.09874082\n",
      " 0.0993371  0.09709501 0.09944677 0.09858298 0.09884453 0.09894896\n",
      " 0.09835625 0.099756   0.09888244 0.09904289 0.09989214 0.10003519\n",
      " 0.09934831 0.09963226 0.09919167 0.09991634 0.09964383 0.10011858\n",
      " 0.09987241 0.10028446 0.09975195 0.09973621 0.09969139 0.10004711\n",
      " 0.10005116 0.09976864 0.09917873 0.10025454 0.09984767 0.10005426\n",
      " 0.09938574 0.0994823  0.09967065 0.10022449 0.10013342 0.09991014\n",
      " 0.09916592 0.09995806 0.09977853 0.0998615  0.09964287 0.1001302\n",
      " 0.09979606 0.09919047 0.10009193 0.09965038 0.09953761 0.0997566\n",
      " 0.09986937 0.10009748 0.10009426 0.09932995 0.09941363 0.09835529]\n",
      "Max ll ratios over counts: 0.100343585\n"
     ]
    }
   ],
   "source": [
    "logits_sgd = qs_from_sgd.reshape(n_seats+1, -1)\n",
    "log_probs_sgd = jax.nn.log_softmax(logits_sgd, axis=1)\n",
    "\n",
    "# average log-likelihood for releasing the correct category\n",
    "avg_correct_sgd = (categories * log_probs_sgd).mean()\n",
    "print(f\"Average ll: {avg_correct_sgd}\")\n",
    "\n",
    "\n",
    "# DP likelihood ratio\n",
    "max_abs_logdiff_for_count_sgd = np.max(\n",
    "                                    np.array([np.abs(log_probs_sgd[i]-log_probs_sgd[i+1]) \n",
    "                                             for i in range(0, n_seats)]\n",
    "                                            ), \n",
    "                                    axis=1\n",
    "                                    )\n",
    "print(\"Max ll ratios per count (DP constraint):\\n\", max_abs_logdiff_for_count_sgd)\n",
    "print(\"Max ll ratios over counts:\", max_abs_logdiff_for_count_sgd.max())"
   ]
  },
  {
   "cell_type": "markdown",
   "id": "2a16c532",
   "metadata": {},
   "source": [
    "### (2) SGD solution forced to DP"
   ]
  },
  {
   "cell_type": "code",
   "execution_count": 9,
   "id": "60e32b9a",
   "metadata": {},
   "outputs": [
    {
     "name": "stdout",
     "output_type": "stream",
     "text": [
      "Average ll: -0.09811851382255554\n",
      "Max ll ratios per count (DP constraint):\n",
      " [0.09549034 0.09950727 0.09915215 0.09863055 0.09957629 0.0996117\n",
      " 0.09973979 0.09987843 0.09939241 0.09976697 0.09956479 0.09990788\n",
      " 0.09967136 0.09971213 0.09995675 0.09643674 0.09986496 0.09982252\n",
      " 0.09887815 0.09898376 0.0999577  0.09966683 0.09904957 0.09874082\n",
      " 0.0993371  0.09709501 0.09944677 0.09858298 0.09884453 0.09894896\n",
      " 0.09835625 0.099756   0.09888244 0.09904289 0.09989214 0.09925461\n",
      " 0.09945881 0.09963226 0.09919167 0.09991634 0.09964383 0.0995118\n",
      " 0.09964997 0.09955347 0.09939015 0.09977281 0.09969473 0.0995084\n",
      " 0.09942377 0.09985614 0.09990144 0.09994316 0.09975326 0.09996819\n",
      " 0.09999228 0.09944201 0.09945703 0.09963727 0.09976673 0.09993935\n",
      " 0.09995401 0.09995806 0.09977853 0.0998615  0.09964287 0.09962881\n",
      " 0.09964955 0.09954536 0.09937692 0.09991026 0.09953761 0.0997566\n",
      " 0.09986937 0.09952503 0.09961176 0.09956193 0.09938669 0.09909511]\n",
      "Max ll ratios over counts: 0.099992275\n"
     ]
    }
   ],
   "source": [
    "logits_forced = qs_init_for_exact.reshape(n_seats+1, -1)\n",
    "log_probs_forced = jax.nn.log_softmax(logits_forced, axis=1)\n",
    "\n",
    "# average log-likelihood for releasing the correct category\n",
    "avg_correct_forced = (categories * log_probs_forced).mean()\n",
    "print(f\"Average ll: {avg_correct_forced}\")\n",
    "\n",
    "\n",
    "# DP likelihood ratio\n",
    "max_abs_logdiff_for_count_forced = np.max(\n",
    "                                    np.array([np.abs(log_probs_forced[i]-log_probs_forced[i+1]) \n",
    "                                              for i in range(0, n_seats)]\n",
    "                                            ), \n",
    "                                    axis=1\n",
    "                                    )\n",
    "print(\"Max ll ratios per count (DP constraint):\\n\", max_abs_logdiff_for_count_forced)\n",
    "print(\"Max ll ratios over counts:\", max_abs_logdiff_for_count_forced.max())"
   ]
  },
  {
   "cell_type": "markdown",
   "id": "3e459835",
   "metadata": {},
   "source": [
    "### (3) Solution from constrained optimization using previous as initial value"
   ]
  },
  {
   "cell_type": "code",
   "execution_count": 10,
   "id": "58dcdfa5",
   "metadata": {},
   "outputs": [
    {
     "name": "stdout",
     "output_type": "stream",
     "text": [
      "Average ll: -0.09810524433851242\n",
      "Max ll ratios per count (DP constraint):\n",
      " [0.09549069 0.09950793 0.09915274 0.0986312  0.09957677 0.09961241\n",
      " 0.09974015 0.09987891 0.09939277 0.09976757 0.09956551 0.09990835\n",
      " 0.09967184 0.09971273 0.09995627 0.09643722 0.09986305 0.09983063\n",
      " 0.09887838 0.09898424 0.09995818 0.0996623  0.0990541  0.09874177\n",
      " 0.09933901 0.09709501 0.09944725 0.09858322 0.09884429 0.09894991\n",
      " 0.09835672 0.09975648 0.09888566 0.0990411  0.0998919  0.0992552\n",
      " 0.09945965 0.09963286 0.09924519 0.0999999  0.09964406 0.0995124\n",
      " 0.0996502  0.0995537  0.09941816 0.09977341 0.09969521 0.099509\n",
      " 0.09942412 0.09985816 0.09990197 0.09996915 0.09975374 0.09996891\n",
      " 0.09999263 0.09944272 0.09945726 0.09963775 0.09976697 0.09993994\n",
      " 0.09995437 0.09995866 0.09977913 0.09986186 0.09964347 0.09970558\n",
      " 0.09965008 0.09954584 0.09937716 0.09991086 0.09953821 0.09975684\n",
      " 0.09986973 0.09952545 0.09961188 0.09956276 0.09938717 0.09909606]\n",
      "Max ll ratios over counts: 0.099999905\n"
     ]
    }
   ],
   "source": [
    "logits_exact = res.x.reshape(n_seats+1, -1)\n",
    "log_probs_exact = jax.nn.log_softmax(logits_exact, axis=1)\n",
    "\n",
    "# average log-likelihood for releasing the correct category\n",
    "avg_correct_exact = (categories * log_probs_exact).mean()\n",
    "print(f\"Average ll: {avg_correct_exact}\")\n",
    "\n",
    "\n",
    "# DP likelihood ratio\n",
    "max_abs_logdiff_for_count_exact = np.max(\n",
    "                                    np.array([np.abs(log_probs_exact[i]-log_probs_exact[i+1]) \n",
    "                                              for i in range(0, n_seats)]\n",
    "                                            ), \n",
    "                                    axis=1\n",
    "                                    )\n",
    "print(\"Max ll ratios per count (DP constraint):\\n\", max_abs_logdiff_for_count_exact)\n",
    "print(\"Max ll ratios over counts:\", max_abs_logdiff_for_count_exact.max())"
   ]
  }
 ],
 "metadata": {
  "kernelspec": {
   "display_name": "Python 3 (ipykernel)",
   "language": "python",
   "name": "python3"
  },
  "language_info": {
   "codemirror_mode": {
    "name": "ipython",
    "version": 3
   },
   "file_extension": ".py",
   "mimetype": "text/x-python",
   "name": "python",
   "nbconvert_exporter": "python",
   "pygments_lexer": "ipython3",
   "version": "3.9.13"
  }
 },
 "nbformat": 4,
 "nbformat_minor": 5
}
